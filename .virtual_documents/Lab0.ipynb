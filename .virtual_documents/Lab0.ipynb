



























































import numpy as np








arr = np.array([[0, 1, 2, 3], [4, 5, 6, 7], [8, 9, 10, 11]])
print(arr)


# np.arange is a very useful function for loops. The following is equivalent to np.arange(0, 12, 1)
arr1 = np.arange(12)
print('arr1:', arr1)
arr2 = arr1.reshape(3, 4)
print('\narr2:\n', arr2)
arr3 = np.reshape(arr1, (3, 4))
print('\narr3:\n', arr2)


# A function with similarity with Matlab's linspace. 
# return evenly spaced numbers over a specified interval and reshape the array to 2D
# "dtype": specifies the data type of the array
arr = np.linspace(0, 11, num=12, dtype=np.int64).reshape(3,-1)    
print(arr)


# Other useful functions are np.ones and np.zeros, which return a new array of given shape and type, filled with ones or zeros
ones_arr = np.ones((2,5))
print(ones_arr)
zeros_arr = np.zeros((2,5))
print(zeros_arr)


# Functions like np.ones_like and np.zeros_like also come in handy, which return an array of ones or zeros with the same shape and type as a given array
arr = np.linspace(0, 11, num=12, dtype=np.int8).reshape(3,-1)    
print('arr:\n', arr)
print('Type:', arr.dtype)
arr_ones = np.ones_like(arr)
print('\narr_ones:\n', arr_ones)
print('Type:', arr_ones.dtype)





print('Type:', arr.dtype)
print('Shape:', arr.shape)
print('Size, or total number of elements:', arr.size)
print('Flatten array:', arr.flatten())  # Return a copy of the array collapsed into one dimension





# get the 1st row, can be simplified to arr[0]
print('First row:', arr[0, :])
# get the last row
print('Last row:', arr[-1, :])


# get the 1st column
arr[:, 0]


# get a part of the matrix
arr[0:2, 1:]


# get the elements between index 1 and 4, jumping by 2
arr[0, 0:3:2]  


# replace elements in array
arr[0, 0:2] = 60  
print(arr)





a = np.arange(1, 12)
b = a*2
print(a)
print(b)


# Element wise 
print('Element wise multiplication: ', a*b)
print('Element wise division: ', a/b)
print('Square: ', a**2)


# Compute the mean of a 2D array
arr = np.linspace(0, 11, num=12, dtype=np.int8).reshape(3,-1)   
print(arr)
print('\nMean of all elements in the array:', np.mean(arr))  # equivalent to arr.mean()
print('Mean computed along the 1st dimension of the array:', np.mean(arr, axis=0))
print('Mean computed along the 2nd dimension of the array:', np.mean(arr, axis=1))





# create a list
rlist = [1, 2, 3]  
print('Length:', len(rlist))
print('The 2nd element is:', rlist[1])


# change the 2nd list element; Note that element types can be different
rlist[1] = 'hello'  
rlist


# delete the 2nd list element
del rlist[1]  
rlist


# append a new element
rlist.append(5)  
rlist


# show the class of the variable
print(rlist)
print('Type:', type(rlist))


rarr = np.array(rlist)   # convert array to list


print(rarr)
print('Type:', type(rarr))








# loop through an array
arr = np.array((1,2,3))
for x in arr:
    print(x)


# loop through a list
rlist = ['a', 'b', 'c']
for x in rlist:
    print(x)








# use enumerate to generate a counter
for c, x in enumerate(rlist):
    print(c, x)





for x,y in zip(rlist, arr):
    print(x,y)





c = 0
while c < 5:
    print(c)
    c += 1
# to interrupt a while loop, press i twice in a quick succession in command mode





x, y = 0, 5
if x < y:
    print(f'{x} is less than {y}')
elif x == y:
    print(f'{x} is equal to {y}')
else:
    print(f'{x} is more than {y}')











import numpy as np
# imports the plotting module
import matplotlib.pyplot as plt 

%matplotlib inline
plt.rcParams['font.size'] = 16   # set the font size globally

# generate x and y arrays
x = np.linspace(-2*np.pi, 2*np.pi, 200)
y = np.cos(x)

# create a figure, "figsize" specifies figure size
fig, ax = plt.subplots(figsize=(7, 4))
# plot
plt.plot(x,y)

# specify labels and legend
ax.set_title('Example Line Plot')
ax.set_xlabel(r'$\theta$')
ax.set_ylabel('Amplitude')
ax.legend('Line', loc='lower left')

pass  # supress figure output


plt.savefig('Lab0/Line.png')  # save image





%matplotlib inline
plt.rcParams['font.size'] = '16'   # set the font size globally

image = np.random.randint(0, 255, 25**2).reshape(25,25)  

# display image using grayscale and specify color range
fig, ax = plt.subplots(figsize=(7, 7))
# "cmap": colormap, "clim": window
x = ax.imshow(image, cmap='gray', clim=[0, 255])  

# add colobar and modify its size using shrink
plt.colorbar(x, ax=ax, shrink=0.8)  

# specify labels
ax.set_xlabel(r'$x$')
ax.set_ylabel(r'$y$')
ax.set_title('Example Image')

pass  # supress figure output


plt.savefig('Lab0/Image.png')  # save image





fig, ax = plt.subplots(figsize=(7, 4))
ax.hist(image.flatten(), bins=255, range=[0, 255])
ax.set_xlabel('Image Intensity')
ax.set_ylabel('# counts')
ax.set_title('Image Histogram')
pass





%matplotlib inline
plt.rcParams['font.size'] = '16'   # set the font size globally

# generate a random image
image1 = np.random.randint(0, 255, 25**2).reshape(25,25)  
image2 = np.random.randint(0, 255, 25**2).reshape(25,25)  

ncols = 2
nrows = 2
fig, ax = plt.subplots(ncols=ncols, nrows=nrows, figsize=(12, 12))

print('Shape of ax: ', ax.shape)

# You can loop through ax!
for c in range(4):
    image = np.random.randint(0, 255, 25**2).reshape(25,25)  
    
    # np.ravel flattens an array so that you only need to loop through a single dimension     
    im = np.ravel(ax)[c].imshow(image, clim=[0, 255], cmap='gray')
    np.ravel(ax)[c].set_title('Example Image ' + str(c))
    np.ravel(ax)[c].set_xlabel('x')
    np.ravel(ax)[c].set_ylabel('y')
    plt.colorbar(im, ax=np.ravel(ax)[c], shrink=0.8)

pass








%matplotlib widget
plt.rcParams['font.size'] = '16'   # set the font size globally

# display image using grayscale and specify color range
fig, ax = plt.subplots(figsize=(7, 7))
x = ax.imshow(image, cmap='gray', clim=[0, 255])  
pass





%matplotlib widget

import numpy as np
import matplotlib.pyplot as plt
from mpl_toolkits.axes_grid1.axes_divider import make_axes_locatable
from IPython.display import display, clear_output


fig = plt.figure(figsize=(10,10))
ax = fig.add_axes([0.1, 0.3, 0.6, 0.6])
# GUI
plt.ion()

img = np.random.randn(512, 512)
im = ax.imshow(img)

ax_divider = make_axes_locatable(ax)
# Add an axes to the right of the main axes.
cax = ax_divider.append_axes("right", size="7%", pad="2%")
cb = fig.colorbar(im, cax=cax)

hfig = display(fig, display_id=True)

for ct in range(10):
    img = np.random.randn(512, 512) * ct
    im.set_data(img)
    im.set_clim([np.min(img), np.max(img)])
    ax.set_title('count = ' + str(ct))
    
    fig.canvas.draw()
    fig.canvas.flush_events()
    hfig.update(fig)
    
plt.show()
































arr = np.array((1,2,3))
np.save('Lab0/data.npy', arr)  # save array as .npy


data = np.load('Lab0/data.npy')  # load .npy
print(data)









