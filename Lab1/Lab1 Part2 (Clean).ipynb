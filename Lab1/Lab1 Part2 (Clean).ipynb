{
 "cells": [
  {
   "cell_type": "markdown",
   "id": "sitting-cleaner",
   "metadata": {},
   "source": [
    "<p style=\"text-align: center;\" ><font size=\"+3\"><u><b>Laboratory 1 Part 2: Introduction to Imaging</u></b></p>"
   ]
  },
  {
   "cell_type": "markdown",
   "id": "editorial-caution",
   "metadata": {},
   "source": [
    "<p style=\"text-align: left;\" ><font size=\"+1\"><b>Objectives</b></p>"
   ]
  },
  {
   "cell_type": "markdown",
   "id": "introductory-illinois",
   "metadata": {},
   "source": [
    "<div class=\"alert alert-block alert-warning\">\n",
    "<font color=black>\n",
    "\n",
    "- Make your imaging system more quantitative\n",
    "- Learn the focal length of your imaging system\n",
    "- Redesign your microscope for a specific magnification\n",
    "\n",
    "</font> \n",
    "</div>"
   ]
  },
  {
   "cell_type": "markdown",
   "id": "statistical-forestry",
   "metadata": {},
   "source": [
    "<p style=\"text-align: left;\" ><font size=\"+1\"><b>Introduction</b></p>"
   ]
  },
  {
   "cell_type": "markdown",
   "id": "corresponding-halifax",
   "metadata": {},
   "source": [
    "<div class=\"alert alert-block alert-warning\">\n",
    "<font color='black'>\n",
    "Scientific imaging typically requires quantitative measures. “Images are numbers” and those numbers are often significant to scientific questions. Often image values obtained by a camera are expressed in Arbitrary Digital Units (ADU), which are a function of the input light, detector sensitivity and conversion factors, and analog-to-digital conversion. You have already seen that you have a 10-bit camera whose values attain a maximum of 1023. However, scientifically, these values tend not to have a lot of absolute meaning without additional calibration. Similarly, the size and sampling of your image are dependent on how you have set up your optical system. In the following portions of the lab, you will calibrate ADU to have a scientific meaning (transmissivity) as well as establish the size and sampling of your image (so that you can label the actual sizes of features in your image).\n",
    "</font> \n",
    "</div>"
   ]
  },
  {
   "cell_type": "markdown",
   "id": "unknown-strap",
   "metadata": {},
   "source": [
    "# Make your pixel values quantitative"
   ]
  },
  {
   "cell_type": "markdown",
   "id": "boxed-checklist",
   "metadata": {},
   "source": [
    "<div class=\"alert alert-block alert-success\">\n",
    "<font color='black'> Use the nominal microscope set up from Part 1 of the lab (including aperture wide open). Place a slide in the system and ensure that exposure and illumination settings are good. Use one of the “no filter” settings on the filter wheel (we won’t use filters for the remainder of this lab). Similarly, focus the image and call this image $Y$. </font>\n",
    "</div>"
   ]
  },
  {
   "cell_type": "code",
   "execution_count": null,
   "id": "superb-tennis",
   "metadata": {},
   "outputs": [],
   "source": []
  },
  {
   "cell_type": "markdown",
   "id": "rising-gentleman",
   "metadata": {},
   "source": [
    "<div class=\"alert alert-block alert-warning\">\n",
    "<font color='black'> We would like to make the pixel values quantitative. For example, pixel values should denote the transmissivity of the sample (which can range from 0-100% transmission of the incident light). To obtain such quantitation, the system must be calibrated – e.g. what measurement values correspond to what transmission. To perform this calibration, we conduct two specialized image captures: <br/>\n",
    "\n",
    "\n",
    "- “Dark” images – Turn off your LED illuminator and close the aperture all the way to prevent light from reaching the camera. Collect another set of 30 images. Average these and call this image $D$.  <br/>\n",
    "- “Air-only” images – Move away from the slide (as shown in the picture below) and collect a series of 30 images with nothing in the system. Find the average of these 30 images (to reduce noise). Call this image $A$. </font>\n",
    "\n",
    "</div>"
   ]
  },
  {
   "cell_type": "markdown",
   "id": "spectacular-committee",
   "metadata": {},
   "source": [
    "<img src=\"Lab1\\air_image_setup.jpg\" style=\"width:400px\">"
   ]
  },
  {
   "cell_type": "markdown",
   "id": "anticipated-midwest",
   "metadata": {},
   "source": [
    "<div class=\"alert alert-block alert-success\">\n",
    "\n",
    "<b>Data collection:</b> <font color='black'> $A$, $D$, and $Y$ <br/>\n",
    "    \n",
    "<font color='black'>1. Mathematically (using $A$, $D$, and $Y$), what is the expression to obtain quantitative transmission data? <br/>Write the expression and its derivation below. </font>\n",
    "    \n",
    "</div>"
   ]
  },
  {
   "cell_type": "code",
   "execution_count": null,
   "id": "everyday-antique",
   "metadata": {},
   "outputs": [],
   "source": []
  },
  {
   "cell_type": "markdown",
   "id": "rational-platform",
   "metadata": {},
   "source": [
    "<div class=\"alert alert-block alert-success\">\n",
    "<font color='black'> 2. Create an image of your slide with quantitative transmission values and a colorbar, and show it below: </font>\n",
    "    \n",
    "</div>"
   ]
  },
  {
   "cell_type": "code",
   "execution_count": null,
   "id": "comic-combination",
   "metadata": {},
   "outputs": [],
   "source": []
  },
  {
   "cell_type": "markdown",
   "id": "convertible-region",
   "metadata": {},
   "source": [
    "# Find the magnification of your microscope (Make your axes quantitative)"
   ]
  },
  {
   "cell_type": "markdown",
   "id": "interstate-guitar",
   "metadata": {},
   "source": [
    "<div class=\"alert alert-block alert-warning\">\n",
    "   \n",
    "<font color='black'> The actual pixel size of your DCC3240M camera is 5.3 $\\mu$m. However, there is magnification between the object you are imaging and the image that falls on the sensor. To find the magnification, you need to measure the size of a known target in pixels. <br/><br>\n",
    "We will be using the resolution target on your microscope. Move the target so that you can see the 100 $\\mu$m grid (pink circle below, 100 $\\mu$m is the distance per grid), and make sure it is in focus. \n",
    "\n",
    "</font>\n",
    "</div>"
   ]
  },
  {
   "cell_type": "markdown",
   "id": "distinct-butler",
   "metadata": {},
   "source": [
    "<img src=\"Lab1\\Grid.png\" style=\"width:800px\"> "
   ]
  },
  {
   "cell_type": "markdown",
   "id": "alpha-provincial",
   "metadata": {},
   "source": [
    "<div class=\"alert alert-block alert-success\">\n",
    "   \n",
    "<font color='black'> \n",
    "Use Jupyter interactive plotting function (refer to Lab 0), and estimate the size of a pixel in terms of the actual slide feature size in the object plane. You can read the coordinates of the pixel the cursor is hovering over at the bottom of the plot. <br/> Counting pixels over several squares should improve your estimate. <br/><br/></font>\n",
    "    \n",
    "<b>In-class data collection:</b> <font color='black'> Image the 100 $\\mu$m grid <br/><br/>\n",
    "    \n",
    "1. Show a zoomed image of the 100 $\\mu$m grid and the distance you used to compute the pixel size:\n",
    "</font>\n",
    "</div>"
   ]
  },
  {
   "cell_type": "code",
   "execution_count": null,
   "id": "laughing-territory",
   "metadata": {},
   "outputs": [],
   "source": []
  },
  {
   "cell_type": "markdown",
   "id": "signed-inflation",
   "metadata": {},
   "source": [
    "<div class=\"alert alert-block alert-success\">\n",
    "<font color='black'> 2. What is the size of one pixel in the object plane? </font>\n",
    "</div>"
   ]
  },
  {
   "cell_type": "code",
   "execution_count": null,
   "id": "infectious-graphics",
   "metadata": {},
   "outputs": [],
   "source": []
  },
  {
   "cell_type": "markdown",
   "id": "involved-duration",
   "metadata": {},
   "source": [
    "<div class=\"alert alert-block alert-success\">\n",
    "<font color='black'> 3. Magnification is the ratio of the size of the detected image to the size of the real object. What is the magnification of your system? </font>\n",
    "</div>"
   ]
  },
  {
   "cell_type": "code",
   "execution_count": null,
   "id": "choice-gross",
   "metadata": {},
   "outputs": [],
   "source": []
  },
  {
   "cell_type": "markdown",
   "id": "young-profit",
   "metadata": {},
   "source": [
    "<div class=\"alert alert-block alert-success\">\n",
    "\n",
    "<font color='black'>4. Take an image of the line pairs region (green circle above) in the resolution target and paste it below with a color bar and proper axis labels (mm).</font>\n",
    "\n",
    "</div>"
   ]
  },
  {
   "cell_type": "code",
   "execution_count": null,
   "id": "infectious-premises",
   "metadata": {},
   "outputs": [],
   "source": []
  },
  {
   "cell_type": "markdown",
   "id": "regulation-accused",
   "metadata": {},
   "source": [
    "<div class=\"alert alert-block alert-success\">\n",
    "\n",
    "<font color='black'>5. What are the finest line pairs that you can resolve? Show a zoomed image including the line pairs above and below this limit. (The following table will help you find the lp/mm for each target. Values are in lp/mm. The element number is labeled on the left of each line pair target; the group number is on top.)</font>\n",
    "\n",
    "</div>"
   ]
  },
  {
   "cell_type": "markdown",
   "id": "assumed-sleeve",
   "metadata": {},
   "source": [
    "<img src=\"Lab1\\LinePairTable.png\" style=\"width:600px\"> "
   ]
  },
  {
   "cell_type": "code",
   "execution_count": null,
   "id": "presidential-seminar",
   "metadata": {},
   "outputs": [],
   "source": []
  },
  {
   "cell_type": "markdown",
   "id": "positive-welding",
   "metadata": {},
   "source": [
    "# Devise a strategy to measure the focal length of your lens"
   ]
  },
  {
   "cell_type": "markdown",
   "id": "thousand-penny",
   "metadata": {},
   "source": [
    "<div class=\"alert alert-block alert-warning\">\n",
    "\n",
    "<font color='black'> In lecture you learned about the lens equation, which permits you to compute the location of a focused image given the position of the object and the focal length of the lens. Thus, to design a system with a specific magnification, you need to know the focal length of the lens. This is straightforward if you can measure the distance between the lens and object and image; however, this is not necessarily easy when these planes are hidden within optical elements. Thus, we explore an alternate approach.</font> \n",
    "\n",
    "<font color='black'> Restating the lens equation, we know:\n",
    "\\begin{equation}\n",
    "\\frac{1}{a} + \\frac{1}{b} = \\frac{1}{f}\n",
    "\\end{equation} </font> \n",
    "    \n",
    "    \n",
    "<font color='black'> Consider the case where you measure the magnification in two focused optical systems but change the distance to the camera by a known amount (e.g. adding an optical tube of known length, z). The lens equation holds for both systems, but a and b will both change. Thus, you have: </font> \n",
    "    \n",
    "<font color='black'> \\begin{equation}\n",
    "\\frac{1}{a_1} + \\frac{1}{b_1} = \\frac{1}{f}\n",
    "\\end{equation} </font> \n",
    "    \n",
    "<font color='black'> \\begin{equation}\n",
    "\\frac{1}{a_1+z} + \\frac{1}{b_2} = \\frac{1}{f}\n",
    "\\end{equation} </font> \n",
    "\n",
    "<font color='black'> You already know how to measure magnification in each system and that magnification is related to object and image planes through the following equations: </font> \n",
    "    \n",
    "<font color='black'> \\begin{equation}\n",
    "M_1 = \\frac{a_1}{b_1}\n",
    "\\end{equation} </font> \n",
    "\n",
    "<font color='black'> \\begin{equation}\n",
    "M_2 = \\frac{a_1+z}{b_2}\n",
    "\\end{equation} </font> \n",
    "\n",
    "<font color='black'> This means you have four equations and four unknowns ($a_1$, $b_1$, $b_2$, $f$) and two measured values ($M_1$, $M_2$) and one known value ($z$).  </font> \n",
    "\n",
    "</div>"
   ]
  },
  {
   "cell_type": "markdown",
   "id": "warming-collaboration",
   "metadata": {},
   "source": [
    "<div class=\"alert alert-block alert-success\">\n",
    "    \n",
    "<font color='black'> 1. Derive and state the mathematical relationship between $f$ and ($M_1$, $M_2$, $z$). Show a few intermediate steps.  </font> \n",
    "    "
   ]
  },
  {
   "cell_type": "code",
   "execution_count": null,
   "id": "needed-insider",
   "metadata": {},
   "outputs": [],
   "source": []
  },
  {
   "cell_type": "markdown",
   "id": "polyphonic-cinema",
   "metadata": {},
   "source": [
    "<div class=\"alert alert-block alert-success\">\n",
    "    \n",
    "<font color='black'> 2. What is the focal length of your lens in mm? ___________ </font>     "
   ]
  },
  {
   "cell_type": "code",
   "execution_count": null,
   "id": "coated-photograph",
   "metadata": {},
   "outputs": [],
   "source": []
  },
  {
   "cell_type": "markdown",
   "id": "economic-former",
   "metadata": {},
   "source": [
    "# Build a system to achieve a specific magnification goal"
   ]
  },
  {
   "cell_type": "markdown",
   "id": "duplicate-gabriel",
   "metadata": {},
   "source": [
    "<div class=\"alert alert-block alert-success\">\n",
    "\n",
    "<font color='black'> 1. From the nominal microscope design that uses only the ½”, 1”, and 2” tubes, how much additional tube length is required to obtain a system with a magnification of 2.4x? </font>\n",
    "</div>"
   ]
  },
  {
   "cell_type": "code",
   "execution_count": null,
   "id": "ordinary-trigger",
   "metadata": {},
   "outputs": [],
   "source": []
  },
  {
   "cell_type": "markdown",
   "id": "latin-blogger",
   "metadata": {},
   "source": [
    "<div class=\"alert alert-block alert-success\">\n",
    "\n",
    "<font color='black'> 2. How would you achieve this using available tubes?  (The available tube lengths are: 2”, 1”, 0.5”, 0.3”). <br/><br/> Record the tube lengths you have designed, and we will build this system in class next time.</font>\n",
    " \n",
    "</div>"
   ]
  },
  {
   "cell_type": "code",
   "execution_count": null,
   "id": "critical-thunder",
   "metadata": {},
   "outputs": [],
   "source": []
  }
 ],
 "metadata": {
  "jupytext": {
   "encoding": "# -*- coding: utf-8 -*-"
  },
  "kernelspec": {
   "display_name": "Python 3",
   "language": "python",
   "name": "python3"
  },
  "language_info": {
   "codemirror_mode": {
    "name": "ipython",
    "version": 3
   },
   "file_extension": ".py",
   "mimetype": "text/x-python",
   "name": "python",
   "nbconvert_exporter": "python",
   "pygments_lexer": "ipython3",
   "version": "3.8.5"
  },
  "toc-autonumbering": true,
  "toc-showcode": false,
  "toc-showmarkdowntxt": false
 },
 "nbformat": 4,
 "nbformat_minor": 5
}
