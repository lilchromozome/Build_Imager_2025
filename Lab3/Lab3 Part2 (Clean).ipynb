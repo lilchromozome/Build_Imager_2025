{
 "cells": [
  {
   "cell_type": "markdown",
   "id": "liberal-lending",
   "metadata": {},
   "source": [
    "<p style=\"text-align: center;\" ><font size=\"+3\"><u><b>Laboratory 3 Part 2: Linear Systems Theory Applied to Optical Imaging Systems</u></b></p>"
   ]
  },
  {
   "cell_type": "markdown",
   "id": "occupational-tennessee",
   "metadata": {},
   "source": [
    "<p style=\"text-align: left;\" ><font size=\"+1\"><b>Measure the Point Spread Function of a Microscope</b></p>"
   ]
  },
  {
   "cell_type": "markdown",
   "id": "peaceful-choice",
   "metadata": {},
   "source": [
    "<div class=\"alert alert-block alert-warning\">\n",
    "<font color='black'>\n",
    "\n",
    "The microscope has been set up using 8” of optical tube (plus the filter wheel and aperture). We have placed two targets on the stage - the resolution target and a pinhole target. In addition, the glass diffuser have been removed from setup. Instead, as shown in the photo below, a piece of plastic has been placed underneath the resolution target to function as a diffuser. \n",
    "\n",
    "IMPORTANT: if you have a red camera, please add a 0.5\" tube to your system\n",
    "     </font> \n",
    "</div>"
   ]
  },
  {
   "cell_type": "markdown",
   "id": "alike-welding",
   "metadata": {},
   "source": [
    "<img src=\"Lab3\\stage.png\" style=\"width:500px\">"
   ]
  },
  {
   "cell_type": "code",
   "execution_count": 2,
   "id": "25e31de9",
   "metadata": {},
   "outputs": [],
   "source": [
    "# add BaITools to path\n",
    "import os\n",
    "import numpy as np\n",
    "import sys\n",
    "from IPython.display import Image\n",
    "sys.path.insert(0,r'BaITools')\n",
    "sys.path.insert(0,r'dlls')\n",
    "\n",
    "dll_path = r\"C:\\Users\\willi\\OneDrive - The Webb Schools\\Documents\\BME Year 3\\Build_Imager\\Lab3\\dlls\"\n",
    "os.environ[\"PATH\"] = dll_path + os.pathsep + os.environ[\"PATH\"]\n",
    "\n",
    "# for basic functions\n",
    "import numpy as np\n",
    "from time import sleep\n",
    "import matplotlib.pyplot as plt\n",
    "from matplotlib import image as mpimg\n",
    "from IPython.display import display, clear_output\n",
    "import cv2\n",
    "plt.rcParams['font.size'] = 16   # set the font size globally\n",
    "\n",
    "from zelux import ZeluxCamera as Camera  # for camera"
   ]
  },
  {
   "cell_type": "code",
   "execution_count": 6,
   "id": "0a806921",
   "metadata": {},
   "outputs": [
    {
     "name": "stdout",
     "output_type": "stream",
     "text": [
      "Camera initialized as c\n",
      "Camera Model \t Thorlabs CS165MU\n",
      "Pixel Size \t 3.45  microns\n",
      "Image size \t [1440, 1080]\n",
      "Exposure \t 9.99  ms\n",
      "Exposure Range \t [0.06, 26843.44]  ms\n",
      "Framerate \t 20.0\n",
      "Frame Range \t [0.9, 34.8]\n"
     ]
    }
   ],
   "source": [
    "print('Camera initialized as c')\n",
    "c = Camera()\n",
    "c.open()\n",
    "\n",
    "# check image properties\n",
    "c.get_properties()\n",
    "c.set_exposure(10) \n",
    "c.get_exposure()\n",
    "c.set_framerate(20)\n",
    "c.get_framerate()\n",
    "\n",
    "\n",
    "# try continuous capture\n",
    "# to quit press live feed press \"q\"q\n",
    "while True:\n",
    "    # Convert the image from 10-bit to 8-bit and then display the image. \n",
    "     cv2.imshow('Camera', cv2.normalize(c.capture().copy(), None, 0, 255, cv2.NORM_MINMAX, dtype=cv2.CV_8U))\n",
    "     if cv2.waitKey(30) & 0xFF == ord('q'):\n",
    "        break\n",
    "cv2.destroyAllWindows()"
   ]
  },
  {
   "cell_type": "code",
   "execution_count": 7,
   "id": "7efeed0e",
   "metadata": {},
   "outputs": [],
   "source": [
    "c.close()"
   ]
  },
  {
   "cell_type": "code",
   "execution_count": 8,
   "id": "55944a28",
   "metadata": {},
   "outputs": [
    {
     "name": "stdout",
     "output_type": "stream",
     "text": [
      "Camera initialized as c\n"
     ]
    },
    {
     "name": "stderr",
     "output_type": "stream",
     "text": [
      "Could not disarm camera; tl_camera_disarm() returned non-zero error code: 1003; error message: Camera handle is not valid. Check that the camera handle is not null and that the camera has not been closed. Error: Invalid parameter. Check documentation for detailed parameter information.\n",
      "Exception ignored in: <function ZeluxCamera.__del__ at 0x0000028EA6ACD940>\n",
      "Traceback (most recent call last):\n",
      "  File \"c:\\Users\\willi\\OneDrive - The Webb Schools\\Documents\\BME Year 3\\Build_Imager\\Lab3\\BaITools\\zelux.py\", line 39, in __del__\n",
      "    self._cam.disarm()\n",
      "  File \"c:\\Users\\willi\\OneDrive - The Webb Schools\\Documents\\BME Year 3\\Build_Imager\\Lab3\\thorlabs_tsi_sdk\\tl_camera.py\", line 855, in disarm\n",
      "    raise exception\n",
      "  File \"c:\\Users\\willi\\OneDrive - The Webb Schools\\Documents\\BME Year 3\\Build_Imager\\Lab3\\thorlabs_tsi_sdk\\tl_camera.py\", line 852, in disarm\n",
      "    raise TLCameraError(_create_c_failure_message(self._sdk, \"tl_camera_disarm\", error_code))\n",
      "thorlabs_tsi_sdk.tl_camera.TLCameraError: tl_camera_disarm() returned non-zero error code: 1003; error message: Camera handle is not valid. Check that the camera handle is not null and that the camera has not been closed. Error: Invalid parameter. Check documentation for detailed parameter information.\n"
     ]
    },
    {
     "name": "stdout",
     "output_type": "stream",
     "text": [
      "Camera Model \t Thorlabs CS165MU\n",
      "Pixel Size \t 3.45  microns\n",
      "Image size \t [1440, 1080]\n",
      "Exposure \t 9.99  ms\n",
      "Exposure Range \t [0.06, 26843.44]  ms\n",
      "Framerate \t 20.0\n",
      "Frame Range \t [0.9, 34.8]\n"
     ]
    }
   ],
   "source": [
    "print('Camera initialized as c')\n",
    "c = Camera()\n",
    "c.open()\n",
    "\n",
    "# check image properties\n",
    "c.get_properties()\n",
    "c.set_exposure(10) \n",
    "c.get_exposure()\n",
    "c.set_framerate(2)\n",
    "c.get_framerate()\n",
    "\n",
    "img = c.capture().copy()\n",
    "np.save(f\"Grid.npy\", img)\n",
    "plt.imsave(f\"Grid.png\", img, cmap='gray')\n",
    "\n",
    "c.close()"
   ]
  },
  {
   "cell_type": "markdown",
   "id": "abroad-poverty",
   "metadata": {},
   "source": [
    "<div class=\"alert alert-block alert-success\">\n",
    "<font color='black'>\n",
    "1. Move the stage to find the resolution target. As you have done previously, compute the pixel size, magnification, and sampling frequency and report below:\n",
    "         </font> \n",
    "</div>"
   ]
  },
  {
   "cell_type": "code",
   "execution_count": null,
   "id": "dying-showcase",
   "metadata": {},
   "outputs": [],
   "source": []
  },
  {
   "cell_type": "markdown",
   "id": "impaired-jerusalem",
   "metadata": {},
   "source": [
    "<div class=\"alert alert-block alert-warning\">\n",
    "<font color='black'>\n",
    "\n",
    "Now find the pinhole. The pinhole lets through very little light and can be difficult to find. Thus, you will go through a very specific process to be able to find the pinhole and collect good data. <br/> <br/>\n",
    "\n",
    "First, set your system to the “no filter” setting. Turn up the LED illuminator to the maximum setting. Also, the illuminator will get warm while in use. **Remember to turn off the illuminator after each data collection.<br/><br/>\n",
    "\n",
    "Set the camera exposure to something long like 1000 ms. (To do this you will likely need to reduce the framerate below 1 frame/second by setting `c.set_framerate()`). You may need to tweak this exposure setting to get good (unsaturated) data. Set up your system in a continuous display loop as you have in previous labs and start searching for the pinhole. Having your axes aligned and moving slowly will be critical to find the pinhole. Similarly, you will need to be somewhat close to focus in order to see the pinhole. In this lab, it may be helpful to use `cmap='jet'` to visualize your data.<br/><br/>\n",
    "    \n",
    "Once you have found the pinhole, change your live image to display only a 200 x 200 pixel region around the pinhole. **Change the filter to filter 2 (“green” 540 nm).** Attempt to get the image focused as best as you can. If the image is saturated, adjust the exposure accordingly. <br/><br/>\n",
    "    \n",
    "You may notice that the background isn’t entirely dark. Recall from Lab 1 that even when no light hits the detector you can read non-zero values. We will need to correct for this. Without changing any part of the setup, turn off the illuminator (e.g. set intensity to zero) and collect 50 dark frames to subtract from your data. (We will not be conducting an air scan to normalize the data.) Turn the illuminator back on when finished.\n",
    "\n",
    "</font> \n",
    "</div>"
   ]
  },
  {
   "cell_type": "markdown",
   "id": "horizontal-rhythm",
   "metadata": {},
   "source": [
    "<div class=\"alert alert-block alert-success\">\n",
    "<font color='black'>\n",
    "\n",
    "2. Center your pinhole as best as you can within a 200 x 200 zoomed image at the best focus you can achieve. (Hint, the best focus will have the highest value at the center of the pinhole.) Average 100 images to obtain an image of your pinhole. <br/><br/>  \n",
    "    \n",
    "Paste that image below. Additionally, re-window (using `clim`) your data to show as many sidelobes as you can in your data, and show that image as well.  Also, save your data (e.g. `np.save('wide_aperture.npy', mean_image)`).\n",
    "</font> \n",
    "</div>"
   ]
  },
  {
   "cell_type": "code",
   "execution_count": null,
   "id": "referenced-jonathan",
   "metadata": {},
   "outputs": [],
   "source": []
  },
  {
   "cell_type": "markdown",
   "id": "functional-journalism",
   "metadata": {},
   "source": [
    "<div class=\"alert alert-block alert-success\">\n",
    "<font color='black'>\n",
    "\n",
    "3. Repeat the above experiment with two additional aperture settings (medium and small). (Note that you should not have to change focus, but changing the exposure time will require new dark frame data.) Save `medium_aperture.npy` and `small_aperture.npy` as well. \n",
    "</font> \n",
    "</div>"
   ]
  },
  {
   "cell_type": "markdown",
   "id": "distributed-method",
   "metadata": {},
   "source": [
    "<img src=\"Lab3\\aperture.png\" style=\"width:800px\">\n",
    "Example aperture position: wide open (100% open), medium aperture (60% open), small aperture (30% open)"
   ]
  },
  {
   "cell_type": "code",
   "execution_count": null,
   "id": "chemical-cisco",
   "metadata": {},
   "outputs": [],
   "source": []
  },
  {
   "cell_type": "markdown",
   "id": "essential-miller",
   "metadata": {},
   "source": [
    "<div class=\"alert alert-block alert-success\">\n",
    "<font color='black'>\n",
    "\n",
    "4. Show the averaged, 200 x 200 images (both normal and “zoomed” `clim`) below. Discuss the effect of aperture on the appearance of the pinhole.\n",
    "</font> \n",
    "</div>"
   ]
  },
  {
   "cell_type": "code",
   "execution_count": null,
   "id": "interior-matrix",
   "metadata": {},
   "outputs": [],
   "source": []
  },
  {
   "cell_type": "markdown",
   "id": "turkish-beaver",
   "metadata": {},
   "source": [
    "<div class=\"alert alert-block alert-success\">\n",
    "<font color='black'>\n",
    "\n",
    "5. For your 3 data sets above (you saved data for wide, medium, and small apertures), estimate the diameter of the first dark ring around your pinhole images. Report each below with units:\n",
    "</font> \n",
    "</div>"
   ]
  },
  {
   "cell_type": "code",
   "execution_count": null,
   "id": "meaningful-bikini",
   "metadata": {},
   "outputs": [],
   "source": []
  },
  {
   "cell_type": "markdown",
   "id": "stupid-lloyd",
   "metadata": {},
   "source": [
    "<div class=\"alert alert-block alert-success\">\n",
    "<font color='black'>\n",
    "\n",
    "6. For your 3 data sets above, show the absolute value of the Fourier transform of your data using `ax.plot_surface()`. What are you looking at? Describe what you see and estimate the “diameter” of the function you observe. (Note: If you have a “spike” at your DC value, talk to the instructors for a remedy.) </font> \n",
    "</div>"
   ]
  },
  {
   "cell_type": "code",
   "execution_count": null,
   "id": "utility-victorian",
   "metadata": {},
   "outputs": [],
   "source": []
  },
  {
   "cell_type": "markdown",
   "id": "distant-pension",
   "metadata": {},
   "source": [
    "<div class=\"alert alert-block alert-success\">\n",
    "<font color='black'>\n",
    "\n",
    "7. Return to the wide open aperture scenario with a centered pinhole, 200 x 200 image and **switch to filter 1 (\"blue\" 460 nm)**. Choose an appropriate exposure and dark-correct your data. Show a best-focus image, windowed image to see sidelobes, and the magnitude of the Fourier transform of this image. Save your image data. Additionally, estimate the diameter of the first dark ring in the image and the diameter of the Fourier-domain function. Show all of this below and discuss the relation to the in-focus filter 2 case.  </font> \n",
    "</div>"
   ]
  },
  {
   "cell_type": "code",
   "execution_count": null,
   "id": "broken-criminal",
   "metadata": {},
   "outputs": [],
   "source": []
  },
  {
   "cell_type": "markdown",
   "id": "protected-attribute",
   "metadata": {},
   "source": [
    "<div class=\"alert alert-block alert-success\">\n",
    "<font color='black'>\n",
    "\n",
    "8. Defocus your pinhole image at three different levels of defocus (showing different ring behavior around the pinhole). Average 100 frames, save this data and show below. Describe general trends in the defocused data. </font> \n",
    "</div>"
   ]
  },
  {
   "cell_type": "code",
   "execution_count": null,
   "id": "stock-battle",
   "metadata": {},
   "outputs": [],
   "source": []
  },
  {
   "cell_type": "markdown",
   "id": "worldwide-thesis",
   "metadata": {},
   "source": [
    "<div class=\"alert alert-block alert-success\">\n",
    "<font color='black'>\n",
    "\n",
    "9. Move the stage to center your microscope on the center of the star pattern. Acquire a best focus image at good exposures for both filter 1 (\"blue\" 460 nm) and filter 3 (\"orange\" 600 nm) using a 200 x 200 zoomed image region. Show both images and describe what you see – note any differences and interpret the data in light of the other experiments you have conducted.  </font> \n",
    "</div>"
   ]
  },
  {
   "cell_type": "code",
   "execution_count": null,
   "id": "distant-depth",
   "metadata": {},
   "outputs": [],
   "source": []
  }
 ],
 "metadata": {
  "kernelspec": {
   "display_name": "cv2025",
   "language": "python",
   "name": "python3"
  },
  "language_info": {
   "codemirror_mode": {
    "name": "ipython",
    "version": 3
   },
   "file_extension": ".py",
   "mimetype": "text/x-python",
   "name": "python",
   "nbconvert_exporter": "python",
   "pygments_lexer": "ipython3",
   "version": "3.8.20"
  }
 },
 "nbformat": 4,
 "nbformat_minor": 5
}
