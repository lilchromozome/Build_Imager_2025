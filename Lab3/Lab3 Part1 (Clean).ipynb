{
 "cells": [
  {
   "cell_type": "markdown",
   "id": "stuffed-possible",
   "metadata": {},
   "source": [
    "<p style=\"text-align: center;\" ><font size=\"+3\"><u><b>Laboratory 3 Part 1: Linear systems theory applied to optical imaging systems</u></b></p>"
   ]
  },
  {
   "cell_type": "markdown",
   "id": "distributed-flush",
   "metadata": {},
   "source": [
    "<p style=\"text-align: left;\" ><font size=\"+1\"><b>Objectives</b></p>"
   ]
  },
  {
   "cell_type": "markdown",
   "id": "selected-listing",
   "metadata": {},
   "source": [
    "<div class=\"alert alert-block alert-warning\">\n",
    "<font color=black>\n",
    "\n",
    "- Understand linear system analysis in 1D and 2D, be able to perform convolution, cross correlation, and autocorrelation in Python\n",
    "- Basic optical imaging system modeling\n",
    "- Simulate an optical system with a perfect lens in Python\n",
    "- Measure the point spread function of your microscope\n",
    "\n",
    "</font> \n",
    "</div>"
   ]
  },
  {
   "cell_type": "markdown",
   "id": "small-technology",
   "metadata": {},
   "source": [
    "<p style=\"text-align: left;\" ><font size=\"+1\"><b>Introduction / Basic Rules</b></p>"
   ]
  },
  {
   "cell_type": "markdown",
   "id": "alert-documentation",
   "metadata": {},
   "source": [
    "<div class=\"alert alert-block alert-warning\">\n",
    "<font color='black'>\n",
    "\n",
    "We have revised linear systems in 1D and extended the analysis to 2D signals. In this lab, you will first perform convolution exercises in Python. <br/>\n",
    "We will then write a simulator for a perfect optical system in Python and see how the PSF of your microscope affects the final image output. </font> \n",
    "</div>"
   ]
  },
  {
   "cell_type": "markdown",
   "id": "political-wright",
   "metadata": {},
   "source": [
    "# Convolution in Python"
   ]
  },
  {
   "cell_type": "markdown",
   "id": "linear-saying",
   "metadata": {},
   "source": [
    "<div class=\"alert alert-block alert-success\">\n",
    "<font color='black'>\n",
    "\n",
    "1. If you have a signal $f$ that is on $N_f \\times M_f$, and a signal $g$ that is $N_g \\times M_g$, what is the size of ($f * g$)?\n",
    "</font> \n",
    "</div>"
   ]
  },
  {
   "cell_type": "code",
   "execution_count": null,
   "id": "verbal-subcommittee",
   "metadata": {},
   "outputs": [],
   "source": []
  },
  {
   "cell_type": "markdown",
   "id": "proved-adjustment",
   "metadata": {},
   "source": [
    "<div class=\"alert alert-block alert-warning\">\n",
    "<font color='black'>\n",
    "Convolution in Python can be performed using `convolve` in 1D and `convolve2d` in 2D. To do this, first import the following functions:\n",
    "\n",
    "`import scipy` <br/>\n",
    "`from scipy.signal import convolve2d` <br/>\n",
    "    \n",
    "    \n",
    "By default, `convolve2d` returns the full size of the convolution results. <br/> For many applications, we want to keep the size of the output the same as one of the signals. The following would give an output that is the same size as $f$: <br/>\n",
    "\n",
    "`convolve2d(f, g, 'same')`<br/>\n",
    "\n",
    "Now let’s perform some convolutions and try to interpret the results.<br/>\n",
    "Load the image we provided, `SanFrancisco.npy`, into Python. <br/>\n",
    "Show the image below. Assume each pixel is 1mm by 1mm. \n",
    "\n",
    "</font> \n",
    "</div>"
   ]
  },
  {
   "cell_type": "markdown",
   "id": "absent-salon",
   "metadata": {},
   "source": [
    "<div class=\"alert alert-block alert-success\">\n",
    "<font color='black'>\n",
    "\n",
    "2. Now let’s perform some convolutions and try to interpret the results.<br/>\n",
    "Load the image we provided, `SanFrancisco.npy`, into Python. <br/>\n",
    "Show the image below. Assume each pixel is 1mm by 1mm. \n",
    "\n",
    "</font> \n",
    "</div>"
   ]
  },
  {
   "cell_type": "code",
   "execution_count": null,
   "id": "promotional-bullet",
   "metadata": {},
   "outputs": [],
   "source": []
  },
  {
   "cell_type": "markdown",
   "id": "simple-roberts",
   "metadata": {},
   "source": [
    "<div class=\"alert alert-block alert-success\">\n",
    "<font color='black'>\n",
    "\n",
    "3. Make a Gaussian kernel using the code below: <br/>\n",
    "\n",
    "`from functions import gauss2d` <br/>\n",
    "`h = gauss2d((52, 52), 3)`\n",
    "\n",
    "Assume the same pixel spacing (1 mm) as above. Paste the result below:\n",
    "</font> \n",
    "</div>"
   ]
  },
  {
   "cell_type": "code",
   "execution_count": null,
   "id": "heard-foundation",
   "metadata": {},
   "outputs": [],
   "source": []
  },
  {
   "cell_type": "markdown",
   "id": "laden-height",
   "metadata": {},
   "source": [
    "<div class=\"alert alert-block alert-success\">\n",
    "<font color='black'>\n",
    "\n",
    "4. If the image is the input to an arbitrary system and `h` is the impulse response of the system, what is the output of the system? <br/> Keep the size of the output the same as the image. Paste your results below. Explain what you see in both the spatial domain and in the frequency domain (i.e., what is the transfer function of the system and how is it affecting the output?)\n",
    "    \n",
    "</font> \n",
    "</div>"
   ]
  },
  {
   "cell_type": "code",
   "execution_count": null,
   "id": "fluid-oklahoma",
   "metadata": {},
   "outputs": [],
   "source": []
  },
  {
   "cell_type": "markdown",
   "id": "focal-parliament",
   "metadata": {},
   "source": [
    "<div class=\"alert alert-block alert-success\">\n",
    "<font color='black'>\n",
    "\n",
    "5. Now try to perform the same convolution in the Fourier domain using the convolution theorem and see if you get the same results back. <br/> Note that you would need to zero pad `h` to the same size as the image. You can achieve this with the `np.pad` function in Python. <br/> Paste your code and your image output below. Is the output (exactly) the same as what you got previously using convolution? Please explain what you see. \n",
    "    \n",
    "</font> \n",
    "</div>"
   ]
  },
  {
   "cell_type": "code",
   "execution_count": null,
   "id": "adaptive-sydney",
   "metadata": {},
   "outputs": [],
   "source": []
  },
  {
   "cell_type": "markdown",
   "id": "nonprofit-confidence",
   "metadata": {},
   "source": [
    "<div class=\"alert alert-block alert-success\">\n",
    "<font color='black'> \n",
    "6. Make the following two filters/kernels in Python: <br/>\n",
    "Perform convolution of each filter with the image. Paste your image below. Explain what you see using both spatial domain and frequency domain descriptions. \n",
    "</font> \n",
    "</div>"
   ]
  },
  {
   "cell_type": "markdown",
   "id": "unavailable-newman",
   "metadata": {},
   "source": [
    "<img src=\"Lab3\\kernel.png\" style=\"width:400px\">"
   ]
  },
  {
   "cell_type": "code",
   "execution_count": null,
   "id": "extraordinary-academy",
   "metadata": {},
   "outputs": [],
   "source": []
  },
  {
   "cell_type": "markdown",
   "id": "silver-banking",
   "metadata": {},
   "source": [
    "# Pupil function and PSF Simulation"
   ]
  },
  {
   "cell_type": "markdown",
   "id": "recovered-exposure",
   "metadata": {},
   "source": [
    "<div class=\"alert alert-block alert-warning\">\n",
    "<font color='black'> In this part of the lab, you will simulate a few pupil functions and compute the corresponding Point Spread Function (PSF) and Optical Transfer Function (OTF). </font> \n",
    "</div>"
   ]
  },
  {
   "cell_type": "markdown",
   "id": "irish-stretch",
   "metadata": {},
   "source": [
    "<div class=\"alert alert-block alert-success\">\n",
    "<font color='black'>\n",
    "\n",
    "1. Let’s first simulate a circular pupil function [`P(x,y)` in the notes]. <br/> On a 1001 by 1001 grid with a 0.1 mm sampling interval, simulate a centered circular pupil function with 12mm diameter. Paste your result below with axis labels and colorbar.\n",
    "\n",
    "</font> \n",
    "</div>"
   ]
  },
  {
   "cell_type": "code",
   "execution_count": null,
   "id": "intense-spoke",
   "metadata": {},
   "outputs": [],
   "source": []
  },
  {
   "cell_type": "markdown",
   "id": "guilty-spelling",
   "metadata": {},
   "source": [
    "<div class=\"alert alert-block alert-success\">\n",
    "<font color='black'>\n",
    "\n",
    "2. Compute the PSF of the pupil function. We can presume the axes of the pupil function are already scaled to the right imaging plane in this lab, i.e., you can compute the Fourier transform or autocorrelation of the pupil function directly. Paste your code below. Please also include 1) a surface plot of the PSF, 2) a surface plot of the log10 transformed PSF. For both figures, please zoom in on the central 201 by 201 pixels and include axis labels and colorbar. <br/>\n",
    "\n",
    "You can produce a surface plot using the `ax.plot_surface(X, Y, Z)` function in Python: <br/>\n",
    "More information about the surface plot can be found here: https://matplotlib.org/stable/gallery/mplot3d/surface3d.html\n",
    "\n",
    "</font> \n",
    "</div>"
   ]
  },
  {
   "cell_type": "code",
   "execution_count": null,
   "id": "liberal-portrait",
   "metadata": {},
   "outputs": [],
   "source": []
  },
  {
   "cell_type": "markdown",
   "id": "criminal-merchandise",
   "metadata": {},
   "source": [
    "<div class=\"alert alert-block alert-warning\">\n",
    "<font color='black'> \n",
    "\n",
    "From the PSF, we can compute the Fourier domain transfer function of the system. This function is called the Optical Transfer Function (OTF), and is equal to the Fourier transform of the PSF normalized by the totally area under the PSF, or equivalently normalized by the DC value (`frequency = [0, 0]`) of the Fourier transform. \n",
    "</font> \n",
    "</div>"
   ]
  },
  {
   "cell_type": "markdown",
   "id": "consecutive-anthropology",
   "metadata": {},
   "source": [
    "<div class=\"alert alert-block alert-success\">\n",
    "<font color='black'>\n",
    "\n",
    "3. Compute the OTF. Past your code below and include both a regular plot (`ax.imshow`) and a surface plot (`ax.plot_surface`) of the OTF below. \n",
    "</font> \n",
    "</div>"
   ]
  },
  {
   "cell_type": "code",
   "execution_count": null,
   "id": "civil-catalog",
   "metadata": {},
   "outputs": [],
   "source": []
  },
  {
   "cell_type": "markdown",
   "id": "differential-playlist",
   "metadata": {},
   "source": [
    "<div class=\"alert alert-block alert-success\">\n",
    "<font color='black'> \n",
    "\n",
    "4. Now let’s simulate what an image passing through a system with this pupil function looks like. Make a star pattern by calling the `make_star` function provided in lab 3 course content. You need to provide the axes of your image to the function. Presuming you called your axes variables `x` and `y`, you can make a star pattern with the following code. Please use the same axes as the PSF above, from -50 mm to 50 mm.\n",
    "    \n",
    "`from functions import make_star` <br/>\n",
    "`star = make_star(x, y)`\n",
    "    \n",
    "Plot what the star pattern would look like through a system with the PSF and OTF you just calculated. Paste your code and your results below. Explain what you observe.\n",
    "</font> \n",
    "</div>"
   ]
  },
  {
   "cell_type": "code",
   "execution_count": null,
   "id": "civil-advocacy",
   "metadata": {},
   "outputs": [],
   "source": []
  },
  {
   "cell_type": "markdown",
   "id": "brown-ceiling",
   "metadata": {},
   "source": [
    "<div class=\"alert alert-block alert-success\">\n",
    "<font color='black'>\n",
    "\n",
    "5. Now let’s the make the aperture smaller. Make a 3mm diameter pupil function. Compute the PSF, OTF, and image output and paste the images below. <br/> What do you see? How does this relate to the observation from the last lab?</font> \n",
    "</div>"
   ]
  },
  {
   "cell_type": "code",
   "execution_count": null,
   "id": "above-fortune",
   "metadata": {},
   "outputs": [],
   "source": []
  },
  {
   "cell_type": "markdown",
   "id": "timely-printer",
   "metadata": {},
   "source": [
    "<div class=\"alert alert-block alert-warning\">\n",
    "<font color='black'> \n",
    "\n",
    "Of course not all optical systems have circular pupil functions. Now let’s simulate a few other pupil functions and see how they affect the image output. <br/> Construct a pupil function with an annulus and cross shaped obstruction:\n",
    "</font> \n",
    "</div>"
   ]
  },
  {
   "cell_type": "markdown",
   "id": "wicked-portugal",
   "metadata": {},
   "source": [
    "<img src=\"Lab3\\Pupil_cross.png\" style=\"width:400px\">"
   ]
  },
  {
   "cell_type": "markdown",
   "id": "spare-scout",
   "metadata": {},
   "source": [
    "<div class=\"alert alert-block alert-success\">\n",
    "<font color='black'> \n",
    "\n",
    "6. You can construct this in Python by making a disc of 12 mm diameter, subtract a disc of 8 mm diameter, and subtract a central vertical band and a central horizontal band of width 4 mm. <br/>\n",
    "The Matlab logical operations are going to be helpful for this step:\n",
    "\n",
    "- and: `np.logical_and(A, B)`\n",
    "- or: `np.logical_or(A, B)`\n",
    "- not: `np.logical_not(A)`\n",
    "    \n",
    "Paste your code and your pupil function below. \n",
    "</font> \n",
    "</div>"
   ]
  },
  {
   "cell_type": "code",
   "execution_count": null,
   "id": "loaded-vampire",
   "metadata": {},
   "outputs": [],
   "source": []
  },
  {
   "cell_type": "code",
   "execution_count": null,
   "id": "mineral-effects",
   "metadata": {},
   "outputs": [],
   "source": []
  },
  {
   "cell_type": "markdown",
   "id": "designing-kennedy",
   "metadata": {},
   "source": [
    "<div class=\"alert alert-block alert-success\">\n",
    "<font color='black'>\n",
    "\n",
    "7. Compute the PSF, OTF, and final image output of the star pattern. Paste all images below. Interpret the image output. </font> \n",
    "</div>"
   ]
  },
  {
   "cell_type": "code",
   "execution_count": null,
   "id": "upset-malaysia",
   "metadata": {},
   "outputs": [],
   "source": []
  },
  {
   "cell_type": "markdown",
   "id": "soviet-likelihood",
   "metadata": {},
   "source": [
    "<div class=\"alert alert-block alert-success\">\n",
    "<font color='black'>\n",
    "\n",
    "8. Make the following pupil function in Python. There are two circular apertures of 6mm diameter, each diagonally offset from the origin by 3 mm in the x and y direction.  <br/> Paste your code and your pupil function below. </font> \n",
    "</div>"
   ]
  },
  {
   "cell_type": "markdown",
   "id": "comparative-bridal",
   "metadata": {},
   "source": [
    "<img src=\"Lab3\\Pupil_6mm.png\" style=\"width:400px\">"
   ]
  },
  {
   "cell_type": "code",
   "execution_count": null,
   "id": "everyday-fever",
   "metadata": {},
   "outputs": [],
   "source": []
  },
  {
   "cell_type": "markdown",
   "id": "educational-madison",
   "metadata": {},
   "source": [
    "<div class=\"alert alert-block alert-success\">\n",
    "<font color='black'>\n",
    "\n",
    "9. Compute the PSF, OTF, and final image output of the star pattern. Paste all images below. Interpret the image output.  </font> \n",
    "</div>"
   ]
  },
  {
   "cell_type": "code",
   "execution_count": null,
   "id": "satisfied-installation",
   "metadata": {},
   "outputs": [],
   "source": []
  }
 ],
 "metadata": {
  "kernelspec": {
   "display_name": "Python 3",
   "language": "python",
   "name": "python3"
  },
  "language_info": {
   "codemirror_mode": {
    "name": "ipython",
    "version": 3
   },
   "file_extension": ".py",
   "mimetype": "text/x-python",
   "name": "python",
   "nbconvert_exporter": "python",
   "pygments_lexer": "ipython3",
   "version": "3.9.2"
  }
 },
 "nbformat": 4,
 "nbformat_minor": 5
}
