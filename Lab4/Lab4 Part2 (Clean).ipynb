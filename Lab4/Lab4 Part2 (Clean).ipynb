{
 "cells": [
  {
   "cell_type": "markdown",
   "id": "devoted-daughter",
   "metadata": {},
   "source": [
    "<p style=\"text-align: center;\" ><font size=\"+3\"><u><b>Laboratory 4 Part 2: System Identification and Optimization</u></b></p>"
   ]
  },
  {
   "cell_type": "markdown",
   "id": "ambient-verse",
   "metadata": {},
   "source": [
    "<p style=\"text-align: left;\" ><font size=\"+1\"><b>Group #: ___________   Team Members: _______________  </b></p>"
   ]
  },
  {
   "cell_type": "markdown",
   "id": "beautiful-baking",
   "metadata": {},
   "source": [
    "<p style=\"text-align: left;\" ><font size=\"+1\"><b>Optimization Basics</b></p>"
   ]
  },
  {
   "cell_type": "markdown",
   "id": "elder-carolina",
   "metadata": {},
   "source": [
    "<div class=\"alert alert-block alert-warning\">\n",
    "<font color=black>\n",
    "\n",
    "When you define an optimization problem you must consider three main elements: <br/>\n",
    "1) the **optimization parameters**: the variables you are trying to find, <br/>\n",
    "2) the **objective function**: a function (of the optimization parameters) of which you are trying to find minimum (or maximum); this is often a fitting function (e.g. a measure of error in a data fit), and <br/>\n",
    "3) the **optimization algorithm/optimizer** – which is the particular algorithm we are using to find the optimum. Mathematically, we may write the optimization as\n",
    "\\begin{equation}\n",
    "x^{*} = \\underset{x}{\\operatorname{argmin}}  f(x)\n",
    "\\end{equation} \n",
    "    \n",
    "where $x$ is a vector of optimization parameters and $f(x)$ is the objective function. The minimization is defined implicitly and needs to be solved using some algorithm. <br/>\n",
    "    \n",
    "An example of how to code a simple optimization problem in Python is provided on Blackboard (`Lab4 Optimization Example.ipynb`). Run the code and understand the output, what the code is doing, and how to formulate a general optimization problem with the help of descriptions provided below.\n",
    "</font> \n",
    "</div>"
   ]
  },
  {
   "cell_type": "markdown",
   "id": "functional-immune",
   "metadata": {},
   "source": [
    "<p style=\"text-align: left;\" ><font size=\"+1\"><b>System Identification in Simulated Data</b></p>"
   ]
  },
  {
   "cell_type": "markdown",
   "id": "possible-threshold",
   "metadata": {},
   "source": [
    "<div class=\"alert alert-block alert-warning\">\n",
    "<font color=black>\n",
    "\n",
    "We are going to use the same kind of procedure as outlined above to find out certain parameters in a physical microscope system. To do this we need a functional form of our data simulator. Specifically, you need to convert the simulation code you wrote from Part 1 of this lab to a function called `make_psf`. The inputs to the function are radius of the exit pupil (`r`), coefficients to the Zernike polynomials (`coefs`) that define any system aberrations, the corresponding mode indices of the Zernike polynomials (`mode_indices`), and size of the PSF you want to make (`nxy`). The output of the function should be a simulated PSF. For example, you should be able to execute the following command:\n",
    "    \n",
    "`def make_psf(r, coefs, mode_indices, nxy):` <br/>\n",
    "`    # code block computing psf`<br/>\n",
    "`    return psf`<br/>\n",
    "\n",
    "Call the function and confirm you get the same results as before. <br/>\n",
    "    \n",
    "Next, we’ll write an objective function. Create a function in Python called `objfunc`. The inputs to the function are:\n",
    "1) the optimization parameters in vector form (`xv`). Note that all the parameters need to be in a single vector, and the vector needs to be the first argument to the objective function\n",
    "2) the PSF you want to fit to (a simulated PSF in this case, or the measured PSF in real data, `mpsf`), and \n",
    "3) the mode indices of the Zernike polynomials (`mode_indices`) <br/>\n",
    "    \n",
    "The objective function to the optimization is sum of squared error between the estimated PSF and PSF you want to fit to (`mpsf`). In a separate script, write the objective function with the following syntax:\n",
    "\n",
    "`def objfunc(xv, mpsf, mode_indices):` <br/>\n",
    "`    # code block computing the value of the objective function` <br/>\n",
    "`    return val` <br/>\n",
    "\n",
    "Note that our model did not account for the magnitude of the PSF. Before calculating the sum of squared error, normalize both PSFs to the same scale, e.g., between 0 and 1. <br/>\n",
    "\n",
    "In your optimization routine, similar to the example in `Lab4 Optimization Example.ipynb`, display a figure containing `mpsf`, the estimated PSF (from `make_psf`), and the absolute difference between the two with a colorbar. This will allow you to see how the optimization is doing in real time. <br/><br/>\n",
    "\n",
    "</font> \n",
    "</div>"
   ]
  },
  {
   "cell_type": "markdown",
   "id": "august-prize",
   "metadata": {},
   "source": [
    "<div class=\"alert alert-block alert-success\">\n",
    "<font color=black>\n",
    "\n",
    "1. In summary, your objective function should contain the following three parts:\n",
    "\n",
    "- Parse `xv`\n",
    "- Generate model prediction of PSF using parsed `xv` \n",
    "- Normalize `mpsf` and the PSF from 2) and calculate and return the sum of squared error between the two (e.g. over all pixels)\n",
    "\n",
    "Show your code below:\n",
    "\n",
    "</font> \n",
    "</div>"
   ]
  },
  {
   "cell_type": "code",
   "execution_count": null,
   "id": "0e0a4923",
   "metadata": {},
   "outputs": [],
   "source": [
    "import numpy as np\n",
    "from zernike import zernike \n",
    "import cma\n",
    "import matplotlib.pyplot as plt\n",
    "\n",
    "def make_psf(r, coefs, mode_indices, nxy):\n",
    "    lambd = 540E-6  # setup\n",
    "    zi = 300        # setup\n",
    "    sampling = 0.2\n",
    "    x = np.linspace(-1, 1, nxy)\n",
    "    X, Y = np.meshgrid(x, x)\n",
    "\n",
    "    fx = np.fft.fftshift(np.fft.fftfreq(nxy, d=sampling))\n",
    "    fy = np.fft.fftshift(np.fft.fftfreq(nxy, d=sampling))\n",
    "\n",
    "    FX, FY = np.meshgrid(-lambd*zi*fx, -lambd*zi*fy)\n",
    "    H_amp = (FX**2 + FY**2) < r**2\n",
    "\n",
    "    z_sum = zernike(-lambd * zi * fx / r, -lambd * zi * fy / r, mode_indices, coefs)\n",
    "    phase = np.exp(-1j * 2 * np.pi * z_sum)\n",
    "\n",
    "    H = H_amp * phase\n",
    "\n",
    "    h = np.fft.ifftshift(np.fft.ifft2(np.fft.fftshift(H)))\n",
    "    psf = np.abs(h)**2\n",
    "    psf /= psf.sum()\n",
    "\n",
    "    return psf\n",
    "\n",
    "\n",
    "def objfunc(xv, mpsf, mode_indices):\n",
    "    r = 1 \n",
    "    nxy = mpsf.shape[0]\n",
    "    est_psf = make_psf(r, xv, mode_indices, nxy)\n",
    "\n",
    "    mpsf_norm = (mpsf - mpsf.min()) / (mpsf.max() - mpsf.min())\n",
    "    est_psf_norm = (est_psf - est_psf.min()) / (est_psf.max() - est_psf.min())\n",
    "\n",
    "    val = np.sum((mpsf_norm - est_psf_norm) ** 2)\n",
    "    return val\n"
   ]
  },
  {
   "cell_type": "code",
   "execution_count": 6,
   "id": "6f19f8db",
   "metadata": {},
   "outputs": [],
   "source": [
    "import matplotlib.pyplot as plt\n",
    "\n",
    "def show_optimization_result(mpsf, est_psf):\n",
    "    diff = np.abs(mpsf - est_psf)\n",
    "\n",
    "    fig, axs = plt.subplots(1, 3, figsize=(12, 4))\n",
    "    axs[0].imshow(mpsf, cmap='coolwarm')\n",
    "    axs[0].set_title('Measured PSF')\n",
    "    axs[1].imshow(est_psf, cmap='coolwarm')\n",
    "    axs[1].set_title('Estimated PSF')\n",
    "    im = axs[2].imshow(diff, cmap='coolwarm')\n",
    "    axs[2].set_title('Difference')\n",
    "    fig.colorbar(im, ax=axs[2])\n",
    "    plt.tight_layout()\n",
    "    plt.show()\n"
   ]
  },
  {
   "cell_type": "markdown",
   "id": "animated-alert",
   "metadata": {},
   "source": [
    "<div class=\"alert alert-block alert-success\">\n",
    "<font color=black>\n",
    "\n",
    "2. Use your `make_psf` function to generate a PSF from part 1 of this lab, for example: \n",
    "    \n",
    "`mode_indices = [7, 8]`<br/>\n",
    "`coefs = [0.05, -0.2]`<br/>\n",
    "\n",
    "Assume that you know the Zernike modes but do not know the coefficients, use the optimization routine to see if you can recover the coefficients.\n",
    "    \n",
    "A few tricks to help the optimization:\n",
    "- Have good initial guesses (close to the final solution) are important\n",
    "- When computing the objective function, you can zoom in to a region of interest containing the PSF instead of calculating sum of squared error over the entire image <br/>\n",
    "- Show an image of both PSFs and their absolute difference\n",
    "\n",
    "</font> \n",
    "</div>"
   ]
  },
  {
   "cell_type": "code",
   "execution_count": null,
   "id": "782bb0d5",
   "metadata": {},
   "outputs": [],
   "source": [
    "x0 = [0.1, -0.1]\n",
    "sigma0 = 0.05\n",
    "opts = {'tolfun': 1e-8, 'tolx': 1e-5, 'popsize': 10, 'verb_disp': 1}\n",
    "\n",
    "es = cma.CMAEvolutionStrategy(x0, sigma0, opts)\n",
    "fit = np.empty(opts['popsize'])\n",
    "\n",
    "while not es.stop():\n",
    "    new_solutions = es.ask()\n",
    "    for i, sol in enumerate(new_solutions):\n",
    "        fit[i] = objfunc(sol, mpsf, mode_indices)\n",
    "    es.tell(new_solutions, fit)\n",
    "    es.disp(1)\n",
    "\n",
    "xopt = es.result[0]\n",
    "print(\"Recovered coefficients:\", xopt)"
   ]
  },
  {
   "cell_type": "code",
   "execution_count": null,
   "id": "centered-capitol",
   "metadata": {},
   "outputs": [],
   "source": [
    "mode_indices = [7, 8]\n",
    "true_coefs = [0.05, -0.2]\n",
    "r = 1\n",
    "nxy = 256\n",
    "\n",
    "initial_guess = [0.1, -0.1]\n",
    "\n",
    "mpsf = make_psf(r, true_coefs, mode_indices, nxy)\n",
    "psf = make_psf(r, initial_guess, mode_indices, nxy)\n",
    "\n",
    "# initialize\n",
    "es = cma.CMAEvolutionStrategy(initial_guess, sigma0, opts)\n",
    "# variable to store objective function values after each iteration\n",
    "fit = np.empty(popsize)\n",
    "while not es.stop():  # my_desired_target_f_value\n",
    "    new_soln = es.ask()  \n",
    "    for ct, soln in enumerate(new_soln):\n",
    "        fit[ct] = objfunc(soln, mpsf, U, V)\n",
    "    es.tell(new_soln, fit)\n",
    "    es.disp(20)\n",
    "    \n",
    "xopt = es.result[0] \n",
    "objfuncopt = es.result[1]\n",
    "print('Solution: ' + str(xopt))\n",
    "print('Final objective function value: ' + str(objfuncopt))\n",
    "print('Stopping criterion: ', es.stop())\n"
   ]
  },
  {
   "cell_type": "markdown",
   "id": "boolean-copying",
   "metadata": {},
   "source": [
    "<div class=\"alert alert-block alert-success\">\n",
    "<font color=black>\n",
    "\n",
    "3. Show the plot of the simulated PSF from `make_psf` with the Zernike modes and coefficients you used. What is the coefficient you obtained from the optimization? What does the optimized or estimated PSF look like?\n",
    "\n",
    "</font> \n",
    "</div>"
   ]
  },
  {
   "cell_type": "code",
   "execution_count": null,
   "id": "surprised-absence",
   "metadata": {},
   "outputs": [],
   "source": []
  },
  {
   "cell_type": "markdown",
   "id": "royal-shopping",
   "metadata": {},
   "source": [
    "<p style=\"text-align: left;\" ><font size=\"+1\"><b>System Identification in Real Data</b></p>"
   ]
  },
  {
   "cell_type": "markdown",
   "id": "outside-dublin",
   "metadata": {},
   "source": [
    "<div class=\"alert alert-block alert-warning\">\n",
    "<font color=black>\n",
    "Real data are not as “clean” as simulated data. There are noise, detector non-idealities, and other aberrations we might not be modeling. Let us first get our model to be as close to the real system as possible.\n",
    "</font> \n",
    "</div>"
   ]
  },
  {
   "cell_type": "markdown",
   "id": "diverse-cologne",
   "metadata": {},
   "source": [
    "<div class=\"alert alert-block alert-success\">\n",
    "<font color=black>\n",
    "\n",
    "1. For all data collection below, use the green fiter. \n",
    "    \n",
    "    Calculate the image distance of your system. (Hint: you can used the magnification in lab 3 and the focal length of the lens in lab 1) <br/> Show your calculations below.\n",
    "What is the image distance (`zi`)? Note that you have to solve for both object distance and image distance using magnification and focal length of the lens to get image distance (lecture notes from Lab 1).\n",
    "\n",
    "Assign the `zi` variable in your `make_psf` function to the value calculated above. Also make sure the wavelength of light ($λ$) is correctly modeled.\n",
    "</font> \n",
    "</div>"
   ]
  },
  {
   "cell_type": "code",
   "execution_count": null,
   "id": "silent-ghana",
   "metadata": {},
   "outputs": [],
   "source": []
  },
  {
   "cell_type": "markdown",
   "id": "continuous-ebony",
   "metadata": {},
   "source": [
    "<div class=\"alert alert-block alert-warning\">\n",
    "<font color=black>\n",
    "\n",
    "We don’t know the exact size of the exit pupil. Let’s estimate that first using **in-focus** data at wide open aperture.\n",
    "</font> \n",
    "</div>"
   ]
  },
  {
   "cell_type": "code",
   "execution_count": null,
   "id": "c66898ee",
   "metadata": {},
   "outputs": [],
   "source": []
  },
  {
   "cell_type": "markdown",
   "id": "cutting-stress",
   "metadata": {},
   "source": [
    "<div class=\"alert alert-block alert-success\">\n",
    "<font color=black>\n",
    "\n",
    "2. Perform an estimation of the exit pupil size and the two Zernike tilt parameters (to ensure subpixel centering of your PSF). Paste below the measured PSF, estimated PSF, and the size of the aperture from your optimization. <br/><br/>\n",
    "HINTS: This optimization is nonlinear and highly subject to local optima. \n",
    "- You will want to start with some good starting guesses in order to find the correct solution. \n",
    "- This includes a good guess of the exit pupil size and of the tilt parameters. \n",
    "- Recall that the tilts should be close to zero if your PSF is properly centered.\n",
    "- The parameter `sigma0` in the `options` parameter passed to CMA-ES is a variance that controls the level of randomness in the search. If your search appears to get stuck far from an optima, you might want to increase this value.\n",
    "\n",
    "</font> \n",
    "</div>"
   ]
  },
  {
   "cell_type": "code",
   "execution_count": null,
   "id": "strategic-imagination",
   "metadata": {},
   "outputs": [],
   "source": []
  },
  {
   "cell_type": "markdown",
   "id": "affiliated-services",
   "metadata": {},
   "source": [
    "<div class=\"alert alert-block alert-success\">\n",
    "<font color=black>\n",
    "\n",
    "3. Now, let’s consider a **defocused data set**. Select/collect a defocused PSF with a small to moderate level of defocus. Fix the aperture to the value you just calculated and estimate the level of defocus (and tilts, since they remain important). Show your measured PSF, estimated PSF, and state your estimated defocus.\n",
    "\n",
    "</font> \n",
    "</div>"
   ]
  },
  {
   "cell_type": "code",
   "execution_count": null,
   "id": "gorgeous-primary",
   "metadata": {},
   "outputs": [],
   "source": []
  },
  {
   "cell_type": "markdown",
   "id": "excited-compromise",
   "metadata": {},
   "source": [
    "<div class=\"alert alert-block alert-success\">\n",
    "<font color=black>\n",
    "\n",
    "4. Repeat the above estimation but include astigmatism, coma, and spherical aberration Zernikes. Show your measured PSF, estimated PSF, and state your estimated aberration parameters. Additionally, show the resulting pupil phase function (e.g. the weighted sum of these Zernikes that fits this data). Are these estimates different than the previous fit?\n",
    "</font> \n",
    "</div>"
   ]
  },
  {
   "cell_type": "code",
   "execution_count": null,
   "id": "useful-somewhere",
   "metadata": {},
   "outputs": [],
   "source": []
  },
  {
   "cell_type": "markdown",
   "id": "annual-enhancement",
   "metadata": {},
   "source": [
    "<div class=\"alert alert-block alert-success\">\n",
    "<font color=black>\n",
    "\n",
    "5. Repeat the above estimation once more but use all Zernike polynomials from 2-22. Show your measured PSF, estimated PSF, and state your estimated aberration parameters. Show the resulting pupil phase function. Are these estimates different than the previous ones? Lastly, show the pupil phase function for a perfectly focused system (i.e., zero out the defocus and x-,y-tilt terms and show the weighted sum of all other Zernike polynomials).\n",
    "</font> \n",
    "</div>"
   ]
  },
  {
   "cell_type": "code",
   "execution_count": null,
   "id": "natural-surface",
   "metadata": {},
   "outputs": [],
   "source": []
  },
  {
   "cell_type": "markdown",
   "id": "recognized-response",
   "metadata": {},
   "source": [
    "<div class=\"alert alert-block alert-success\">\n",
    "<font color=black>\n",
    "\n",
    "6. Collect an additional defocused data set (different than the one above). Try to reproduce the “1-wave” defocus case that you simulated previously where the center of the PSF is near-zero and the PSF has the form of an annulus (i.e., donut-shape). Conduct the estimation using Zernikes 2-22. Show the estimated pupil phase function. Also, show the pupil phase function for a perfectly focused system. How does this compare with the previous “perfect focus” estimate.\n",
    "</font> \n",
    "</div>"
   ]
  },
  {
   "cell_type": "code",
   "execution_count": null,
   "id": "vanilla-italic",
   "metadata": {},
   "outputs": [],
   "source": []
  },
  {
   "cell_type": "markdown",
   "id": "auburn-protest",
   "metadata": {},
   "source": [
    "<div class=\"alert alert-block alert-success\">\n",
    "<font color=black>\n",
    "\n",
    "**BONUS #1** Repeat a defocus experiment using another wavelength filter. Show pupil phase functions and “perfect focus” estimates. How do these compare to previous estimates?\n",
    "    \n",
    "**BONUS #2** Estimating the Pupil Function in an Obstructed Imaging System\n",
    "\n",
    "Many optical imaging systems do not have simple disc-shaped pupil functions. This is true in astronomical imaging devices including telescopes with central obstructions (typically to suspend a secondary mirror in the optical path, which allows a longer “b” distance in the lens equation (or “zi” more recently) while maintaining a compact optical instrument, effectively “folding” the optical path).\n",
    "We will set up a microscope where a central obstruction has been placed in the pupil. Alter your make_psf code to allow for three addition parameters for the amplitude portion of your pupil function. Specifically, allow a disc-shaped central obstruction of unknown position (x,y) and unknown diameter. For the datasets that you acquire show measured and estimated PSFs, amplitude and phase of your pupil function, and estimated aberration parameters. (You may select Zernikes based on your previous characterizations of the microscope.)\n",
    "\n",
    "</font> \n",
    "</div>"
   ]
  },
  {
   "cell_type": "code",
   "execution_count": null,
   "id": "alternate-harmony",
   "metadata": {},
   "outputs": [],
   "source": []
  },
  {
   "cell_type": "code",
   "execution_count": null,
   "id": "headed-syntax",
   "metadata": {},
   "outputs": [],
   "source": []
  }
 ],
 "metadata": {
  "kernelspec": {
   "display_name": "cv2025",
   "language": "python",
   "name": "python3"
  },
  "language_info": {
   "codemirror_mode": {
    "name": "ipython",
    "version": 3
   },
   "file_extension": ".py",
   "mimetype": "text/x-python",
   "name": "python",
   "nbconvert_exporter": "python",
   "pygments_lexer": "ipython3",
   "version": "3.8.20"
  }
 },
 "nbformat": 4,
 "nbformat_minor": 5
}
