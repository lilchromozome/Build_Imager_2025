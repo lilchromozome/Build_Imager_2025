{
 "cells": [
  {
   "cell_type": "markdown",
   "id": "massive-battle",
   "metadata": {},
   "source": [
    "<p style=\"text-align: center;\" ><font size=\"+3\"><u><b>Laboratory 2  Part 2: Physical Data</u></b></p>"
   ]
  },
  {
   "cell_type": "markdown",
   "id": "bronze-vermont",
   "metadata": {},
   "source": [
    "<div class=\"alert alert-block alert-warning\">\n",
    "<b>Looking at Fourier Transforms of Real Imaging Data:</b> <font color='black'>  \n",
    "\n",
    "We have setup the microscrope according to your design from Lab 1. Place your resolution target on the stage. For these microscope experiments, use the “no filter” setting on the wheel. We will be concentrating on the star pattern target, though you will need to use the grid targets to measure pixel size and sampling frequency.\n",
    "</font> \n",
    "</div>"
   ]
  },
  {
   "cell_type": "markdown",
   "id": "operating-conducting",
   "metadata": {},
   "source": [
    "<img src=\"Lab2\\StarSector.png\" style=\"width:700px\">"
   ]
  },
  {
   "cell_type": "markdown",
   "id": "academic-jordan",
   "metadata": {},
   "source": [
    "# Fourier transform of real data"
   ]
  },
  {
   "cell_type": "markdown",
   "id": "offshore-james",
   "metadata": {},
   "source": [
    "<div class=\"alert alert-block alert-success\">\n",
    "<font color='black'> 1. Measure the Magnification of the system. What is the maginification and the object plane sampling frequency (samples/mm)?  </font><br/> \n",
    "</div>"
   ]
  },
  {
   "cell_type": "code",
   "execution_count": 1,
   "id": "sophisticated-performer",
   "metadata": {},
   "outputs": [
    {
     "ename": "SyntaxError",
     "evalue": "invalid syntax (2937545405.py, line 1)",
     "output_type": "error",
     "traceback": [
      "\u001b[1;36m  Cell \u001b[1;32mIn[1], line 1\u001b[1;36m\u001b[0m\n\u001b[1;33m    NOTE: We are using the Thorlabs CS165MU camera model, not the DCC3240M; therefore, our camera’s pixel size is 3.45  microns. \\\u001b[0m\n\u001b[1;37m             ^\u001b[0m\n\u001b[1;31mSyntaxError\u001b[0m\u001b[1;31m:\u001b[0m invalid syntax\n"
     ]
    }
   ],
   "source": [
    "NOTE: We are using the Thorlabs CS165MU camera model, not the DCC3240M; therefore, our camera’s pixel size is 3.45  microns. \\\n",
    "pixel size = 3.45 𝜇m \\\n",
    "Average Square Length: 67 pixels \\\n",
    "Size of one pixel = 100𝜇m / 67 pixels = 1.49 x 1.49 𝜇m per pixel \\\n",
    "\\\n",
    "Magnification = 3.45 / 1.49 = 2.3 \\"
   ]
  },
  {
   "cell_type": "markdown",
   "id": "played-excess",
   "metadata": {},
   "source": [
    "<div class=\"alert alert-block alert-success\">\n",
    "\n",
    "<font color='black'> 2. Show an image and a <u>properly labeled</u> Fourier transform images side-by-side (e.g. using `plt.subplots(ncols=2)`, see Lab 0). <br/> Please display the base-10 logarithm of the magnitude of the Fourier transform.\n",
    "</font>\n",
    "</div>"
   ]
  },
  {
   "cell_type": "code",
   "execution_count": null,
   "id": "familiar-envelope",
   "metadata": {},
   "outputs": [],
   "source": []
  },
  {
   "cell_type": "markdown",
   "id": "developed-electric",
   "metadata": {},
   "source": [
    "<div class=\"alert alert-block alert-success\">\n",
    "<font color='black'> 3. Center your image on the star pattern (green cycle shown above) and show your image and Fourier transform pair. <br/> Place your image so that only the star pattern is in the field of view (no other targets, no text “STAR SECTOR 10D” visible) and try to get the best possible focus. Get a good exposure with wide-open aperture.\n",
    "</font>\n",
    "    \n",
    "<font color='black'> Show the two images below and describe general features:\n",
    "</font>\n",
    "</div>"
   ]
  },
  {
   "cell_type": "code",
   "execution_count": null,
   "id": "turkish-manitoba",
   "metadata": {},
   "outputs": [],
   "source": []
  },
  {
   "cell_type": "markdown",
   "id": "incorrect-conflict",
   "metadata": {},
   "source": [
    "# Effect of Defocus"
   ]
  },
  {
   "cell_type": "markdown",
   "id": "driving-opposition",
   "metadata": {},
   "source": [
    "<div class=\"alert alert-block alert-success\">\n",
    "    \n",
    "<font color='black'> 4. Intentionally defocus your image. Capture another image-Fourier transform pair. <br/>\n",
    "Show below and describe what you see (in particular, the changes from the focused image pair).\n",
    "</font>\n",
    "\n",
    "</div>"
   ]
  },
  {
   "cell_type": "code",
   "execution_count": null,
   "id": "found-encoding",
   "metadata": {},
   "outputs": [],
   "source": []
  },
  {
   "cell_type": "markdown",
   "id": "private-collapse",
   "metadata": {},
   "source": [
    "<div class=\"alert alert-block alert-success\">\n",
    "    \n",
    "<font color='black'> 5. <u> <i> Without changing focus (e.g. in the same defocused state) </u> </i>, shift your slide to the line pair targets and obtain an image (Fourier transform not required). <br/> Show a full-field and zoomed image of the finest line pairs that are still visible (e.g., not blurry).<br/><br/></font>\n",
    "    \n",
    "<font color='black'> What is the number of line-pairs/mm for this limiting visibility?   _________________\n",
    "<br/>(The following table will help you find the lp/mm for each target.)</font>\n",
    "\n",
    "</div>"
   ]
  },
  {
   "cell_type": "markdown",
   "id": "american-occasions",
   "metadata": {},
   "source": [
    "<img src=\"Lab2\\LinePairTable.png\" style=\"width:600px\"> \n",
    "Values are in lp/mm."
   ]
  },
  {
   "cell_type": "markdown",
   "id": "lucky-senator",
   "metadata": {},
   "source": [
    "<div class=\"alert alert-block alert-success\">\n",
    "    \n",
    "<font color='black'> 6. Describe how the maximum visibility of line pairs compare with what you see in the Fourier transform of the defocused star pattern? <br/> (Hint: Consider the maximum frequency seen in the Fourier image.)  <br/>\n",
    "</font>\n",
    "\n",
    "</div>"
   ]
  },
  {
   "cell_type": "code",
   "execution_count": null,
   "id": "reasonable-encyclopedia",
   "metadata": {},
   "outputs": [],
   "source": []
  },
  {
   "cell_type": "markdown",
   "id": "genetic-singapore",
   "metadata": {},
   "source": [
    "<div class=\"alert alert-block alert-success\">\n",
    "    \n",
    "<font color='black'> 7. Refocus your microscope and repeat the line pair test, showing maximum visibility (full-field and zoom), and describing the relationship between the star pattern Fourier image and maximum line pair visibility.  <br/>\n",
    "</font>\n",
    "\n",
    "</div>"
   ]
  },
  {
   "cell_type": "code",
   "execution_count": null,
   "id": "british-ranking",
   "metadata": {},
   "outputs": [],
   "source": []
  },
  {
   "cell_type": "markdown",
   "id": "rising-finder",
   "metadata": {},
   "source": [
    "# Effect of Aperture"
   ]
  },
  {
   "cell_type": "markdown",
   "id": "necessary-equation",
   "metadata": {},
   "source": [
    "<div class=\"alert alert-block alert-success\">\n",
    "    \n",
    "<font color='black'> 8. Return to the star pattern target at best focus. Compare image-Fourier pairs for three aperture settings – as shown in the picture below. <br/> Show those pairs and describe what you see. <br/> \n",
    "Recall that the range limit of the aperture motor is different on every system. Experiment with your system to find out where the limits are. <br/> \n",
    "</font>\n",
    "\n",
    "</div>"
   ]
  },
  {
   "cell_type": "markdown",
   "id": "comparable-fairy",
   "metadata": {},
   "source": [
    "<img src=\"Lab2\\aperture.png\" style=\"width:900px\"> \n",
    "Example aperture position: wide open (100% open), medium aperture (60% open), small aperture (30% open)"
   ]
  },
  {
   "cell_type": "code",
   "execution_count": null,
   "id": "civic-martial",
   "metadata": {},
   "outputs": [],
   "source": []
  },
  {
   "cell_type": "markdown",
   "id": "demonstrated-knitting",
   "metadata": {},
   "source": [
    "<div class=\"alert alert-block alert-warning\">\n",
    "<b>Set up a Low Magnification Imaging System:</b> <font color='black'>\n",
    "\n",
    "Let’s consider a very low magnification imaging system. Using only the 1” and ½” optical tubes construct the system shown below. The 1” tube is connected to the lens and the ½” tube is connected to the camera. For all experiments below use Filter 1. Note that to obtain a good exposure level, you will probably need to maximize the brightness of the LED illuminator.\n",
    "</font> \n",
    "</div>"
   ]
  },
  {
   "cell_type": "markdown",
   "id": "aerial-harris",
   "metadata": {},
   "source": [
    "<img src=\"Lab2\\ConcentricCircle.png\" style=\"width:900px\"> \n"
   ]
  },
  {
   "cell_type": "code",
   "execution_count": null,
   "id": "sudden-boating",
   "metadata": {},
   "outputs": [],
   "source": []
  },
  {
   "cell_type": "markdown",
   "id": "surrounded-fifteen",
   "metadata": {},
   "source": [
    "# Low magnification system"
   ]
  },
  {
   "cell_type": "markdown",
   "id": "pressed-reynolds",
   "metadata": {},
   "source": [
    "<div class=\"alert alert-block alert-success\">\n",
    "<font color='black'> 9. Measure the Magnification of the system. What is the maginification and the object plane sampling frequency (samples/mm)?  </font><br/> \n",
    "</font>\n",
    "</div>"
   ]
  },
  {
   "cell_type": "code",
   "execution_count": null,
   "id": "federal-suggestion",
   "metadata": {},
   "outputs": [],
   "source": []
  },
  {
   "cell_type": "markdown",
   "id": "amateur-youth",
   "metadata": {},
   "source": [
    "<div class=\"alert alert-block alert-success\">\n",
    "<font color='black'> 10. Repeat the following data collection for three aperture settings.\n",
    "</font>\n",
    "</div>"
   ]
  },
  {
   "cell_type": "code",
   "execution_count": null,
   "id": "alive-virginia",
   "metadata": {},
   "outputs": [],
   "source": []
  },
  {
   "cell_type": "markdown",
   "id": "identified-shelf",
   "metadata": {},
   "source": [
    "<div class=\"alert alert-block alert-success\">\n",
    "    \n",
    "<font color='black'> 11. Using the resolution target focus on the concentric ring. Obtain a zoomed image of the concentric rings only (no text below) and show both image-domain and frequency-domain images with proper axis labels <i> for each of the three aperture settings: </i> <br/>\n",
    "</font>\n",
    "\n",
    "</div>"
   ]
  },
  {
   "cell_type": "code",
   "execution_count": null,
   "id": "acknowledged-dealer",
   "metadata": {},
   "outputs": [],
   "source": []
  },
  {
   "cell_type": "markdown",
   "id": "premier-softball",
   "metadata": {},
   "source": [
    "<div class=\"alert alert-block alert-success\">\n",
    "    \n",
    "<font color='black'> 12. Explain what you are seeing in the three cases. <br/>\n",
    "</font>\n",
    "\n",
    "</div>"
   ]
  },
  {
   "cell_type": "code",
   "execution_count": null,
   "id": "hindu-maintenance",
   "metadata": {},
   "outputs": [],
   "source": []
  }
 ],
 "metadata": {
  "kernelspec": {
   "display_name": "cv2025",
   "language": "python",
   "name": "python3"
  },
  "language_info": {
   "codemirror_mode": {
    "name": "ipython",
    "version": 3
   },
   "file_extension": ".py",
   "mimetype": "text/x-python",
   "name": "python",
   "nbconvert_exporter": "python",
   "pygments_lexer": "ipython3",
   "version": "3.8.20"
  }
 },
 "nbformat": 4,
 "nbformat_minor": 5
}
