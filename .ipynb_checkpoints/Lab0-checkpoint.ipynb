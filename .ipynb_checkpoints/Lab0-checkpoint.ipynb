{
 "cells": [
  {
   "cell_type": "markdown",
   "metadata": {},
   "source": [
    "<p style=\"text-align: center;\" ><font size=\"+3\"><u><b>Laboratory 0: Python Tutorial</u></b></p>"
   ]
  },
  {
   "cell_type": "markdown",
   "metadata": {},
   "source": [
    "# Jupyter Lab Shortcut Keys"
   ]
  },
  {
   "cell_type": "markdown",
   "metadata": {},
   "source": [
    "**ESC** takes users into command mode view while **ENTER** takes users into cell mode view."
   ]
  },
  {
   "cell_type": "markdown",
   "metadata": {},
   "source": [
    "**a**  inserts a cell above the currently selected cell. Before using this, make sure that you are in command mode (by pressing **ESC**)."
   ]
  },
  {
   "cell_type": "markdown",
   "metadata": {},
   "source": [
    "**b** inserts a cell below the currently selected cell. Before using this make sure that you are in command mode (by pressing **ESC**)."
   ]
  },
  {
   "cell_type": "markdown",
   "metadata": {},
   "source": [
    "**d d** = Pressing d two times in a quick succession in command mode deletes the currently selected cell. "
   ]
  },
  {
   "cell_type": "markdown",
   "metadata": {},
   "source": [
    "**i i** = Pressing i twice in a quick succession in command mode interrupts the kernal."
   ]
  },
  {
   "cell_type": "markdown",
   "metadata": {},
   "source": [
    "**m** converts the cell to a Markdown cell, **y** converts the cell to a code cell"
   ]
  },
  {
   "cell_type": "markdown",
   "metadata": {},
   "source": [
    "**SHIFT + ENTER** runs the selected cell and move down to the next cell."
   ]
  },
  {
   "cell_type": "markdown",
   "metadata": {},
   "source": [
    "**CTRL + /** = It helps you in either commenting or uncommenting any line in the Jupyter lab. For this to work, you don’t even need to select the whole line. It will comment or uncomment line where your cursor is. If you want to do it for more that one line then you will need to first select all the line and then use this shortcut. "
   ]
  },
  {
   "cell_type": "markdown",
   "metadata": {},
   "source": [
    "**SHIFT + DOWN** = It selects the next cell in a downward direction.  It will help in making multiple selections of cells."
   ]
  },
  {
   "cell_type": "markdown",
   "metadata": {},
   "source": [
    "**SHIFT + UP** = It selects the next cell in an upwards direction. It will help in making multiple selections of cells."
   ]
  },
  {
   "cell_type": "markdown",
   "metadata": {},
   "source": [
    "**SHIFT + m** = It merges multiple selected cells into one cell. "
   ]
  },
  {
   "cell_type": "markdown",
   "metadata": {},
   "source": [
    "**CTRL + SHIFT + –** = It splits the current cell into two cells from where your cursor is. "
   ]
  },
  {
   "cell_type": "markdown",
   "metadata": {},
   "source": [
    "**CTRL + SHIFT + c** = It allows access to the command palette. The command palette provides a keyboard-driven way to search for and run JupyterLab commands."
   ]
  },
  {
   "cell_type": "markdown",
   "metadata": {},
   "source": [
    "Jupyter Lab gives you an option to change your cell into Code cell or Markdown cell. You can use **m** to change current cell to a markdown cell and **y** to change it to a code cell."
   ]
  },
  {
   "cell_type": "markdown",
   "metadata": {},
   "source": [
    "More information about Jupyter Lab Interface can be found at: https://jupyterlab.readthedocs.io/en/latest/user/interface.html"
   ]
  },
  {
   "cell_type": "markdown",
   "metadata": {},
   "source": [
    "# Data Structure"
   ]
  },
  {
   "cell_type": "markdown",
   "metadata": {},
   "source": [
    "## Array\n",
    "Array, or more specifically, numpy array, is the most common data structure we will be using in this course. <br/> You will use numpy arrays to hold image data and perform a variety of mathematical operations for image processing. Below are some common functions to get you started. <br/> More array functions and properties can be found at https://numpy.org/doc/stable/reference/generated/numpy.array.html"
   ]
  },
  {
   "cell_type": "markdown",
   "metadata": {},
   "source": [
    "Before you use any Python modules or package, you need to first import them. Run the following code cell: "
   ]
  },
  {
   "cell_type": "code",
   "execution_count": 1,
   "metadata": {},
   "outputs": [],
   "source": [
    "import numpy as np"
   ]
  },
  {
   "cell_type": "markdown",
   "metadata": {},
   "source": [
    "Now the numpy module is imported and abbreviated as `np`. Any function calls within the module need to be preceded by`np.`"
   ]
  },
  {
   "cell_type": "markdown",
   "metadata": {},
   "source": [
    "### Create a numpy array\n",
    "There are different way to create an array. Run the following commands and print out the variables to see what they do. <br/> There are many different ways to accomplish the same task. A lot of the functions also have \"keyword arguments\" that allow to specify certain function behaviors.\n",
    "\n",
    "To learn more about a function, you may google it. <br/> Alternatively, you can run the function first, then click on it and press `SHIFT+TAB` to open the documentation of this function."
   ]
  },
  {
   "cell_type": "code",
   "execution_count": 2,
   "metadata": {},
   "outputs": [
    {
     "name": "stdout",
     "output_type": "stream",
     "text": [
      "[[ 0  1  2  3]\n",
      " [ 4  5  6  7]\n",
      " [ 8  9 10 11]]\n"
     ]
    }
   ],
   "source": [
    "arr = np.array([[0, 1, 2, 3], [4, 5, 6, 7], [8, 9, 10, 11]])\n",
    "print(arr)"
   ]
  },
  {
   "cell_type": "code",
   "execution_count": 3,
   "metadata": {},
   "outputs": [
    {
     "name": "stdout",
     "output_type": "stream",
     "text": [
      "arr1: [ 0  1  2  3  4  5  6  7  8  9 10 11]\n",
      "\n",
      "arr2:\n",
      " [[ 0  1  2  3]\n",
      " [ 4  5  6  7]\n",
      " [ 8  9 10 11]]\n",
      "\n",
      "arr3:\n",
      " [[ 0  1  2  3]\n",
      " [ 4  5  6  7]\n",
      " [ 8  9 10 11]]\n"
     ]
    }
   ],
   "source": [
    "# np.arange is a very useful function for loops. The following is equivalent to np.arange(0, 12, 1)\n",
    "arr1 = np.arange(12)\n",
    "print('arr1:', arr1)\n",
    "arr2 = arr1.reshape(3, 4)\n",
    "print('\\narr2:\\n', arr2)\n",
    "arr3 = np.reshape(arr1, (3, 4))\n",
    "print('\\narr3:\\n', arr2)"
   ]
  },
  {
   "cell_type": "code",
   "execution_count": 4,
   "metadata": {},
   "outputs": [
    {
     "name": "stdout",
     "output_type": "stream",
     "text": [
      "[[ 0  1  2  3]\n",
      " [ 4  5  6  7]\n",
      " [ 8  9 10 11]]\n"
     ]
    }
   ],
   "source": [
    "# A function with similarity with Matlab's linspace. \n",
    "# return evenly spaced numbers over a specified interval and reshape the array to 2D\n",
    "# \"dtype\": specifies the data type of the array\n",
    "arr = np.linspace(0, 11, num=12, dtype=np.int64).reshape(3,-1)    \n",
    "print(arr)"
   ]
  },
  {
   "cell_type": "code",
   "execution_count": 5,
   "metadata": {},
   "outputs": [
    {
     "name": "stdout",
     "output_type": "stream",
     "text": [
      "[[1. 1. 1. 1. 1.]\n",
      " [1. 1. 1. 1. 1.]]\n",
      "[[0. 0. 0. 0. 0.]\n",
      " [0. 0. 0. 0. 0.]]\n"
     ]
    }
   ],
   "source": [
    "# Other useful functions are np.ones and np.zeros, which return a new array of given shape and type, filled with ones or zeros\n",
    "ones_arr = np.ones((2,5))\n",
    "print(ones_arr)\n",
    "zeros_arr = np.zeros((2,5))\n",
    "print(zeros_arr)"
   ]
  },
  {
   "cell_type": "code",
   "execution_count": 6,
   "metadata": {},
   "outputs": [
    {
     "name": "stdout",
     "output_type": "stream",
     "text": [
      "arr:\n",
      " [[ 0  1  2  3]\n",
      " [ 4  5  6  7]\n",
      " [ 8  9 10 11]]\n",
      "Type: int8\n",
      "\n",
      "arr_ones:\n",
      " [[1 1 1 1]\n",
      " [1 1 1 1]\n",
      " [1 1 1 1]]\n",
      "Type: int8\n"
     ]
    }
   ],
   "source": [
    "# Functions like np.ones_like and np.zeros_like also come in handy, which return an array of ones or zeros with the same shape and type as a given array\n",
    "arr = np.linspace(0, 11, num=12, dtype=np.int8).reshape(3,-1)    \n",
    "print('arr:\\n', arr)\n",
    "print('Type:', arr.dtype)\n",
    "arr_ones = np.ones_like(arr)\n",
    "print('\\narr_ones:\\n', arr_ones)\n",
    "print('Type:', arr_ones.dtype)"
   ]
  },
  {
   "cell_type": "markdown",
   "metadata": {},
   "source": [
    "Some useful array properties"
   ]
  },
  {
   "cell_type": "code",
   "execution_count": 7,
   "metadata": {},
   "outputs": [
    {
     "name": "stdout",
     "output_type": "stream",
     "text": [
      "Type: int8\n",
      "Shape: (3, 4)\n",
      "Size, or total number of elements: 12\n",
      "Flatten array: [ 0  1  2  3  4  5  6  7  8  9 10 11]\n"
     ]
    }
   ],
   "source": [
    "print('Type:', arr.dtype)\n",
    "print('Shape:', arr.shape)\n",
    "print('Size, or total number of elements:', arr.size)\n",
    "print('Flatten array:', arr.flatten())  # Return a copy of the array collapsed into one dimension"
   ]
  },
  {
   "cell_type": "markdown",
   "metadata": {},
   "source": [
    "### Array Indexing\n",
    "In Python, array index starts from 0. The last index you specify is not included. <br/>\n",
    "More information can be found at https://numpy.org/doc/stable/reference/arrays.indexing.html"
   ]
  },
  {
   "cell_type": "code",
   "execution_count": 8,
   "metadata": {},
   "outputs": [
    {
     "name": "stdout",
     "output_type": "stream",
     "text": [
      "First row: [0 1 2 3]\n",
      "Last row: [ 8  9 10 11]\n"
     ]
    }
   ],
   "source": [
    "# get the 1st row, can be simplified to arr[0]\n",
    "print('First row:', arr[0, :])\n",
    "# get the last row\n",
    "print('Last row:', arr[-1, :])"
   ]
  },
  {
   "cell_type": "code",
   "execution_count": 9,
   "metadata": {},
   "outputs": [
    {
     "data": {
      "text/plain": [
       "array([0, 4, 8], dtype=int8)"
      ]
     },
     "execution_count": 9,
     "metadata": {},
     "output_type": "execute_result"
    }
   ],
   "source": [
    "# get the 1st column\n",
    "arr[:, 0]"
   ]
  },
  {
   "cell_type": "code",
   "execution_count": 10,
   "metadata": {},
   "outputs": [
    {
     "data": {
      "text/plain": [
       "array([[1, 2, 3],\n",
       "       [5, 6, 7]], dtype=int8)"
      ]
     },
     "execution_count": 10,
     "metadata": {},
     "output_type": "execute_result"
    }
   ],
   "source": [
    "# get a part of the matrix\n",
    "arr[0:2, 1:]"
   ]
  },
  {
   "cell_type": "code",
   "execution_count": 11,
   "metadata": {},
   "outputs": [
    {
     "data": {
      "text/plain": [
       "array([0, 2], dtype=int8)"
      ]
     },
     "execution_count": 11,
     "metadata": {},
     "output_type": "execute_result"
    }
   ],
   "source": [
    "# get the elements between index 1 and 4, jumping by 2\n",
    "arr[0, 0:3:2]  "
   ]
  },
  {
   "cell_type": "code",
   "execution_count": 12,
   "metadata": {},
   "outputs": [
    {
     "name": "stdout",
     "output_type": "stream",
     "text": [
      "[[60 60  2  3]\n",
      " [ 4  5  6  7]\n",
      " [ 8  9 10 11]]\n"
     ]
    }
   ],
   "source": [
    "# replace elements in array\n",
    "arr[0, 0:2] = 60  \n",
    "print(arr)"
   ]
  },
  {
   "cell_type": "markdown",
   "metadata": {},
   "source": [
    "### Basic Mathematical Operations"
   ]
  },
  {
   "cell_type": "code",
   "execution_count": 13,
   "metadata": {},
   "outputs": [
    {
     "name": "stdout",
     "output_type": "stream",
     "text": [
      "[ 1  2  3  4  5  6  7  8  9 10 11]\n",
      "[ 2  4  6  8 10 12 14 16 18 20 22]\n"
     ]
    }
   ],
   "source": [
    "a = np.arange(1, 12)\n",
    "b = a*2\n",
    "print(a)\n",
    "print(b)"
   ]
  },
  {
   "cell_type": "code",
   "execution_count": 14,
   "metadata": {},
   "outputs": [
    {
     "name": "stdout",
     "output_type": "stream",
     "text": [
      "Element wise multiplication:  [  2   8  18  32  50  72  98 128 162 200 242]\n",
      "Element wise division:  [0.5 0.5 0.5 0.5 0.5 0.5 0.5 0.5 0.5 0.5 0.5]\n",
      "Square:  [  1   4   9  16  25  36  49  64  81 100 121]\n"
     ]
    }
   ],
   "source": [
    "# Element wise \n",
    "print('Element wise multiplication: ', a*b)\n",
    "print('Element wise division: ', a/b)\n",
    "print('Square: ', a**2)"
   ]
  },
  {
   "cell_type": "code",
   "execution_count": 15,
   "metadata": {},
   "outputs": [
    {
     "name": "stdout",
     "output_type": "stream",
     "text": [
      "[[ 0  1  2  3]\n",
      " [ 4  5  6  7]\n",
      " [ 8  9 10 11]]\n",
      "\n",
      "Mean of all elements in the array: 5.5\n",
      "Mean computed along the 1st dimension of the array: [4. 5. 6. 7.]\n",
      "Mean computed along the 2nd dimension of the array: [1.5 5.5 9.5]\n"
     ]
    }
   ],
   "source": [
    "# Compute the mean of a 2D array\n",
    "arr = np.linspace(0, 11, num=12, dtype=np.int8).reshape(3,-1)   \n",
    "print(arr)\n",
    "print('\\nMean of all elements in the array:', np.mean(arr))  # equivalent to arr.mean()\n",
    "print('Mean computed along the 1st dimension of the array:', np.mean(arr, axis=0))\n",
    "print('Mean computed along the 2nd dimension of the array:', np.mean(arr, axis=1))"
   ]
  },
  {
   "cell_type": "markdown",
   "metadata": {},
   "source": [
    "## List\n",
    "List is another convenient data structure you may use. <br/> While everything in this course could be accomplished with numpy array, it is more efficient to use lists in some instances. <br/>More information can be found at https://docs.python.org/3/tutorial/datastructures.html"
   ]
  },
  {
   "cell_type": "code",
   "execution_count": 16,
   "metadata": {},
   "outputs": [
    {
     "name": "stdout",
     "output_type": "stream",
     "text": [
      "Length: 3\n",
      "The 2nd element is: 2\n"
     ]
    }
   ],
   "source": [
    "# create a list\n",
    "rlist = [1, 2, 3]  \n",
    "print('Length:', len(rlist))\n",
    "print('The 2nd element is:', rlist[1])"
   ]
  },
  {
   "cell_type": "code",
   "execution_count": 17,
   "metadata": {},
   "outputs": [
    {
     "data": {
      "text/plain": [
       "[1, 'hello', 3]"
      ]
     },
     "execution_count": 17,
     "metadata": {},
     "output_type": "execute_result"
    }
   ],
   "source": [
    "# change the 2nd list element; Note that element types can be different\n",
    "rlist[1] = 'hello'  \n",
    "rlist"
   ]
  },
  {
   "cell_type": "code",
   "execution_count": 18,
   "metadata": {},
   "outputs": [
    {
     "data": {
      "text/plain": [
       "[1, 3]"
      ]
     },
     "execution_count": 18,
     "metadata": {},
     "output_type": "execute_result"
    }
   ],
   "source": [
    "# delete the 2nd list element\n",
    "del rlist[1]  \n",
    "rlist"
   ]
  },
  {
   "cell_type": "code",
   "execution_count": 19,
   "metadata": {},
   "outputs": [
    {
     "data": {
      "text/plain": [
       "[1, 3, 5]"
      ]
     },
     "execution_count": 19,
     "metadata": {},
     "output_type": "execute_result"
    }
   ],
   "source": [
    "# append a new element\n",
    "rlist.append(5)  \n",
    "rlist"
   ]
  },
  {
   "cell_type": "code",
   "execution_count": 20,
   "metadata": {},
   "outputs": [
    {
     "name": "stdout",
     "output_type": "stream",
     "text": [
      "[1, 3, 5]\n",
      "Type: <class 'list'>\n"
     ]
    }
   ],
   "source": [
    "# show the class of the variable\n",
    "print(rlist)\n",
    "print('Type:', type(rlist))"
   ]
  },
  {
   "cell_type": "code",
   "execution_count": 21,
   "metadata": {},
   "outputs": [],
   "source": [
    "rarr = np.array(rlist)   # convert array to list"
   ]
  },
  {
   "cell_type": "code",
   "execution_count": 22,
   "metadata": {},
   "outputs": [
    {
     "name": "stdout",
     "output_type": "stream",
     "text": [
      "[1 3 5]\n",
      "Type: <class 'numpy.ndarray'>\n"
     ]
    }
   ],
   "source": [
    "print(rarr)\n",
    "print('Type:', type(rarr))"
   ]
  },
  {
   "cell_type": "markdown",
   "metadata": {},
   "source": [
    "# Conditionals and Loops"
   ]
  },
  {
   "cell_type": "markdown",
   "metadata": {},
   "source": [
    "## For loop"
   ]
  },
  {
   "cell_type": "code",
   "execution_count": 23,
   "metadata": {},
   "outputs": [
    {
     "name": "stdout",
     "output_type": "stream",
     "text": [
      "1\n",
      "2\n",
      "3\n"
     ]
    }
   ],
   "source": [
    "# loop through an array\n",
    "arr = np.array((1,2,3))\n",
    "for x in arr:\n",
    "    print(x)"
   ]
  },
  {
   "cell_type": "code",
   "execution_count": 24,
   "metadata": {},
   "outputs": [
    {
     "name": "stdout",
     "output_type": "stream",
     "text": [
      "a\n",
      "b\n",
      "c\n"
     ]
    }
   ],
   "source": [
    "# loop through a list\n",
    "rlist = ['a', 'b', 'c']\n",
    "for x in rlist:\n",
    "    print(x)"
   ]
  },
  {
   "cell_type": "markdown",
   "metadata": {},
   "source": [
    "You can use `enumerate()` in a loop in almost the same way that you use the original iterable object. <br/>\n",
    "Instead of putting the iterable directly after `in` in the for loop, you put it inside the parentheses of `enumerate()`. "
   ]
  },
  {
   "cell_type": "markdown",
   "metadata": {},
   "source": [
    "When you use `enumerate()`, the function gives you back two loop variables:\n",
    "- The count of the current iteration\n",
    "- The value of the item at the current iteration"
   ]
  },
  {
   "cell_type": "code",
   "execution_count": 25,
   "metadata": {},
   "outputs": [
    {
     "name": "stdout",
     "output_type": "stream",
     "text": [
      "0 a\n",
      "1 b\n",
      "2 c\n"
     ]
    }
   ],
   "source": [
    "# use enumerate to generate a counter\n",
    "for c, x in enumerate(rlist):\n",
    "    print(c, x)"
   ]
  },
  {
   "cell_type": "markdown",
   "metadata": {},
   "source": [
    "The `zip()` function can also be useful in a for loop. <br/>\n",
    "The function is named due to its analogous mechanism as physical zippers. When you zip something, you bring both sides together. <br/> In this case, it brings elements of the same index from multiple iterable objects together. For example, you can loop over two variables at the same time using the following code:"
   ]
  },
  {
   "cell_type": "code",
   "execution_count": 26,
   "metadata": {},
   "outputs": [
    {
     "name": "stdout",
     "output_type": "stream",
     "text": [
      "a 1\n",
      "b 2\n",
      "c 3\n"
     ]
    }
   ],
   "source": [
    "for x,y in zip(rlist, arr):\n",
    "    print(x,y)"
   ]
  },
  {
   "cell_type": "markdown",
   "metadata": {},
   "source": [
    "## While loop"
   ]
  },
  {
   "cell_type": "code",
   "execution_count": 27,
   "metadata": {},
   "outputs": [
    {
     "name": "stdout",
     "output_type": "stream",
     "text": [
      "0\n",
      "1\n",
      "2\n",
      "3\n",
      "4\n"
     ]
    }
   ],
   "source": [
    "c = 0\n",
    "while c < 5:\n",
    "    print(c)\n",
    "    c += 1\n",
    "# to interrupt a while loop, press i twice in a quick succession in command mode"
   ]
  },
  {
   "cell_type": "markdown",
   "metadata": {},
   "source": [
    "## If statement"
   ]
  },
  {
   "cell_type": "code",
   "execution_count": 28,
   "metadata": {},
   "outputs": [
    {
     "name": "stdout",
     "output_type": "stream",
     "text": [
      "0 is less than 5\n"
     ]
    }
   ],
   "source": [
    "x, y = 0, 5\n",
    "if x < y:\n",
    "    print(f'{x} is less than {y}')\n",
    "elif x == y:\n",
    "    print(f'{x} is equal to {y}')\n",
    "else:\n",
    "    print(f'{x} is more than {y}')"
   ]
  },
  {
   "cell_type": "markdown",
   "metadata": {},
   "source": [
    "# Inline Plotting"
   ]
  },
  {
   "cell_type": "markdown",
   "metadata": {},
   "source": [
    "`%matplotlib inline` turns on “inline plotting”, where plot graphics will appear in your notebook. <br/>\n",
    "More information can be found at https://docs.wradlib.org/en/stable/notebooks/python/mplintro.html"
   ]
  },
  {
   "cell_type": "markdown",
   "metadata": {},
   "source": [
    "## Displaying and Saving a Line Plot"
   ]
  },
  {
   "cell_type": "code",
   "execution_count": 29,
   "metadata": {},
   "outputs": [
    {
     "data": {
      "image/png": "[encoded data removed]",
      "text/plain": [
       "<Figure size 504x288 with 1 Axes>"
      ]
     },
     "metadata": {
      "needs_background": "light"
     },
     "output_type": "display_data"
    }
   ],
   "source": [
    "import numpy as np\n",
    "# imports the plotting module\n",
    "import matplotlib.pyplot as plt \n",
    "\n",
    "%matplotlib inline\n",
    "plt.rcParams['font.size'] = 16   # set the font size globally\n",
    "\n",
    "# generate x and y arrays\n",
    "x = np.linspace(-2*np.pi, 2*np.pi, 200)\n",
    "y = np.cos(x)\n",
    "\n",
    "# create a figure, \"figsize\" specifies figure size\n",
    "fig, ax = plt.subplots(figsize=(7, 4))\n",
    "# plot\n",
    "plt.plot(x,y)\n",
    "\n",
    "# specify labels and legend\n",
    "ax.set_title('Example Line Plot')\n",
    "ax.set_xlabel(r'$\\theta$')\n",
    "ax.set_ylabel('Amplitude')\n",
    "ax.legend('Line', loc='lower left')\n",
    "\n",
    "pass  # supress figure output"
   ]
  },
  {
   "cell_type": "code",
   "execution_count": 30,
   "metadata": {},
   "outputs": [
    {
     "data": {
      "text/plain": [
       "<Figure size 432x288 with 0 Axes>"
      ]
     },
     "metadata": {},
     "output_type": "display_data"
    }
   ],
   "source": [
    "plt.savefig('Lab0/Line.png')  # save image"
   ]
  },
  {
   "cell_type": "markdown",
   "metadata": {},
   "source": [
    "## Displaying and Saving an Image"
   ]
  },
  {
   "cell_type": "code",
   "execution_count": 31,
   "metadata": {},
   "outputs": [
    {
     "data": {
      "image/png": "[encoded data removed]",
      "text/plain": [
       "<Figure size 504x504 with 2 Axes>"
      ]
     },
     "metadata": {
      "needs_background": "light"
     },
     "output_type": "display_data"
    }
   ],
   "source": [
    "%matplotlib inline\n",
    "plt.rcParams['font.size'] = '16'   # set the font size globally\n",
    "\n",
    "image = np.random.randint(0, 255, 25**2).reshape(25,25)  \n",
    "\n",
    "# display image using grayscale and specify color range\n",
    "fig, ax = plt.subplots(figsize=(7, 7))\n",
    "# \"cmap\": colormap, \"clim\": window\n",
    "x = ax.imshow(image, cmap='gray', clim=[0, 255])  \n",
    "\n",
    "# add colobar and modify its size using shrink\n",
    "plt.colorbar(x, ax=ax, shrink=0.8)  \n",
    "\n",
    "# specify labels\n",
    "ax.set_xlabel(r'$x$')\n",
    "ax.set_ylabel(r'$y$')\n",
    "ax.set_title('Example Image')\n",
    "\n",
    "pass  # supress figure output"
   ]
  },
  {
   "cell_type": "code",
   "execution_count": 32,
   "metadata": {},
   "outputs": [
    {
     "data": {
      "text/plain": [
       "<Figure size 432x288 with 0 Axes>"
      ]
     },
     "metadata": {},
     "output_type": "display_data"
    }
   ],
   "source": [
    "plt.savefig('Lab0/Image.png')  # save image"
   ]
  },
  {
   "cell_type": "markdown",
   "metadata": {},
   "source": [
    "## Displaying Image Histogram"
   ]
  },
  {
   "cell_type": "code",
   "execution_count": 33,
   "metadata": {},
   "outputs": [
    {
     "data": {
      "image/png": "[encoded data removed]",
      "text/plain": [
       "<Figure size 504x288 with 1 Axes>"
      ]
     },
     "metadata": {
      "needs_background": "light"
     },
     "output_type": "display_data"
    }
   ],
   "source": [
    "fig, ax = plt.subplots(figsize=(7, 4))\n",
    "ax.hist(image.flatten(), bins=255, range=[0, 255])\n",
    "ax.set_xlabel('Image Intensity')\n",
    "ax.set_ylabel('# counts')\n",
    "ax.set_title('Image Histogram')\n",
    "pass"
   ]
  },
  {
   "cell_type": "markdown",
   "metadata": {},
   "source": [
    "## Displaying Multiple Images using Subplots"
   ]
  },
  {
   "cell_type": "code",
   "execution_count": 34,
   "metadata": {},
   "outputs": [
    {
     "name": "stdout",
     "output_type": "stream",
     "text": [
      "Shape of ax:  (2, 2)\n"
     ]
    },
    {
     "data": {
      "image/png": "[encoded data removed]",
      "text/plain": [
       "<Figure size 864x864 with 8 Axes>"
      ]
     },
     "metadata": {
      "needs_background": "light"
     },
     "output_type": "display_data"
    }
   ],
   "source": [
    "%matplotlib inline\n",
    "plt.rcParams['font.size'] = '16'   # set the font size globally\n",
    "\n",
    "# generate a random image\n",
    "image1 = np.random.randint(0, 255, 25**2).reshape(25,25)  \n",
    "image2 = np.random.randint(0, 255, 25**2).reshape(25,25)  \n",
    "\n",
    "ncols = 2\n",
    "nrows = 2\n",
    "fig, ax = plt.subplots(ncols=ncols, nrows=nrows, figsize=(12, 12))\n",
    "\n",
    "print('Shape of ax: ', ax.shape)\n",
    "\n",
    "# You can loop through ax!\n",
    "for c in range(4):\n",
    "    image = np.random.randint(0, 255, 25**2).reshape(25,25)  \n",
    "    \n",
    "    # np.ravel flattens an array so that you only need to loop through a single dimension     \n",
    "    im = np.ravel(ax)[c].imshow(image, clim=[0, 255], cmap='gray')\n",
    "    np.ravel(ax)[c].set_title('Example Image ' + str(c))\n",
    "    np.ravel(ax)[c].set_xlabel('x')\n",
    "    np.ravel(ax)[c].set_ylabel('y')\n",
    "    plt.colorbar(im, ax=np.ravel(ax)[c], shrink=0.8)\n",
    "\n",
    "pass"
   ]
  },
  {
   "cell_type": "markdown",
   "metadata": {},
   "source": [
    "# Interactive Plotting"
   ]
  },
  {
   "cell_type": "markdown",
   "metadata": {},
   "source": [
    "Leveraging the Jupyter interactive widgets framework, `ipympl` enables the interactive features of matplotlib in the Jupyter notebook and in JupyterLab. <br/> Note that the <a href=\"https://github.com/matplotlib/ipympl\"> IPYMPL package</a> is required. For installation, use `conda install -c conda-forge ipympl`. <br/>\n",
    "Use `%matplotlib widget` to turn on the interactive plotting."
   ]
  },
  {
   "cell_type": "code",
   "execution_count": 35,
   "metadata": {},
   "outputs": [
    {
     "data": {
      "application/vnd.jupyter.widget-view+json": {
       "model_id": "59aaf11224024a279a81d31e54a871ee",
       "version_major": 2,
       "version_minor": 0
      },
      "text/plain": [
       "Canvas(toolbar=Toolbar(toolitems=[('Home', 'Reset original view', 'home', 'home'), ('Back', 'Back to previous …"
      ]
     },
     "metadata": {},
     "output_type": "display_data"
    }
   ],
   "source": [
    "%matplotlib widget\n",
    "plt.rcParams['font.size'] = '16'   # set the font size globally\n",
    "\n",
    "# display image using grayscale and specify color range\n",
    "fig, ax = plt.subplots(figsize=(7, 7))\n",
    "x = ax.imshow(image, cmap='gray', clim=[0, 255])  \n",
    "pass"
   ]
  },
  {
   "cell_type": "markdown",
   "metadata": {},
   "source": [
    "# Displaying Live Image"
   ]
  },
  {
   "cell_type": "code",
   "execution_count": 8,
   "metadata": {},
   "outputs": [],
   "source": [
    "%matplotlib widget\n",
    "\n",
    "import numpy as np\n",
    "import matplotlib.pyplot as plt\n",
    "from mpl_toolkits.axes_grid1.axes_divider import make_axes_locatable\n",
    "from IPython.display import display, clear_output"
   ]
  },
  {
   "cell_type": "code",
   "execution_count": null,
   "metadata": {},
   "outputs": [],
   "source": [
    "fig = plt.figure(figsize=(10,10))\n",
    "ax = fig.add_axes([0.1, 0.3, 0.6, 0.6])\n",
    "# GUI\n",
    "plt.ion()\n",
    "\n",
    "img = np.random.randn(512, 512)\n",
    "im = ax.imshow(img)\n",
    "\n",
    "ax_divider = make_axes_locatable(ax)\n",
    "# Add an axes to the right of the main axes.\n",
    "cax = ax_divider.append_axes(\"right\", size=\"7%\", pad=\"2%\")\n",
    "cb = fig.colorbar(im, cax=cax)\n",
    "\n",
    "hfig = display(fig, display_id=True)\n",
    "\n",
    "for ct in range(10):\n",
    "    img = np.random.randn(512, 512) * ct\n",
    "    im.set_data(img)\n",
    "    im.set_clim([np.min(img), np.max(img)])\n",
    "    ax.set_title('count = ' + str(ct))\n",
    "    \n",
    "    fig.canvas.draw()\n",
    "    fig.canvas.flush_events()\n",
    "    hfig.update(fig)\n",
    "    \n",
    "plt.show()"
   ]
  },
  {
   "cell_type": "markdown",
   "metadata": {},
   "source": [
    "# Insert Image into Notebook"
   ]
  },
  {
   "cell_type": "markdown",
   "metadata": {},
   "source": [
    "Images can be embedded into jupyter notebook via HTML syntax `<img src=\"FilePath\" style=\"width:NumUnit; height:NumUnit;\">`\n",
    "\n",
    "Double click the image below to see the underlying code\n",
    "(If the image below failed to display, try reducing the width and height)"
   ]
  },
  {
   "cell_type": "markdown",
   "metadata": {},
   "source": [
    "<img src=\"Lab0/Image.png\" style=\"width:400px; height:400px;\">"
   ]
  },
  {
   "cell_type": "markdown",
   "metadata": {},
   "source": [
    "# Type Equation in Markdown"
   ]
  },
  {
   "cell_type": "markdown",
   "metadata": {},
   "source": [
    "You can use inline expressions with $ to delimit an expression (double click the cell below to see underlying code):"
   ]
  },
  {
   "cell_type": "markdown",
   "metadata": {},
   "source": [
    "This equation is $\\alpha = 5$"
   ]
  },
  {
   "cell_type": "markdown",
   "metadata": {},
   "source": [
    "Use $$ for display (double click the cell below to see underlying code):"
   ]
  },
  {
   "cell_type": "markdown",
   "metadata": {},
   "source": [
    "$$E = mc^2$$"
   ]
  },
  {
   "cell_type": "markdown",
   "metadata": {},
   "source": [
    "# Save and Load Data"
   ]
  },
  {
   "cell_type": "markdown",
   "metadata": {},
   "source": [
    "You may save data using as `.npy`, which is a common format in Python."
   ]
  },
  {
   "cell_type": "code",
   "execution_count": 38,
   "metadata": {},
   "outputs": [],
   "source": [
    "arr = np.array((1,2,3))\n",
    "np.save('Lab0/data.npy', arr)  # save array as .npy"
   ]
  },
  {
   "cell_type": "code",
   "execution_count": 39,
   "metadata": {},
   "outputs": [
    {
     "name": "stdout",
     "output_type": "stream",
     "text": [
      "[1 2 3]\n"
     ]
    }
   ],
   "source": [
    "data = np.load('Lab0/data.npy')  # load .npy\n",
    "print(data)"
   ]
  },
  {
   "cell_type": "markdown",
   "metadata": {},
   "source": [
    "# Useful Links"
   ]
  },
  {
   "cell_type": "markdown",
   "metadata": {},
   "source": [
    "Use markdown in Jupyter Notebook: https://www.markdownguide.org/basic-syntax/"
   ]
  },
  {
   "cell_type": "markdown",
   "metadata": {},
   "source": [
    "Write math formulars in Markdown: https://csrgxtu.github.io/2015/03/20/Writing-Mathematic-Fomulars-in-Markdown/"
   ]
  }
 ],
 "metadata": {
  "jupytext": {
   "encoding": "# -*- coding: utf-8 -*-",
   "formats": "ipynb,py:percent"
  },
  "kernelspec": {
   "display_name": "Python 3 (ipykernel)",
   "language": "python",
   "name": "python3"
  },
  "language_info": {
   "codemirror_mode": {
    "name": "ipython",
    "version": 3
   },
   "file_extension": ".py",
   "mimetype": "text/x-python",
   "name": "python",
   "nbconvert_exporter": "python",
   "pygments_lexer": "ipython3",
   "version": "3.8.5"
  },
  "toc-autonumbering": true,
  "toc-showcode": false,
  "toc-showmarkdowntxt": false
 },
 "nbformat": 4,
 "nbformat_minor": 4
}
